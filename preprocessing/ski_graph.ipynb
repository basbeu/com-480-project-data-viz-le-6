{
 "cells": [
  {
   "cell_type": "code",
   "execution_count": null,
   "metadata": {},
   "outputs": [],
   "source": [
    "import numpy as np\n",
    "import matplotlib.pyplot as plt \n",
    "import pandas as pd\n",
    "import seaborn as sns\n",
    "import networkx as nx\n",
    "import json"
   ]
  },
  {
   "cell_type": "code",
   "execution_count": null,
   "metadata": {},
   "outputs": [],
   "source": [
    "def parseCSV(isMale=True):\n",
    "    gender = 'm' if isMale else 'f'\n",
    "    df = pd.read_csv(f'../../data/wc{gender}.csv')\n",
    "    df = df.replace(np.nan, '', regex=True)\n",
    "    df.date = pd.to_datetime(df.date, format='%Y-%m-%d')\n",
    "    df['gender'] = gender\n",
    "    return df"
   ]
  },
  {
   "cell_type": "code",
   "execution_count": null,
   "metadata": {},
   "outputs": [],
   "source": [
    "def remove_cancelled_race(df):\n",
    "    return df[df['ath_name']!='']"
   ]
  },
  {
   "cell_type": "code",
   "execution_count": null,
   "metadata": {},
   "outputs": [],
   "source": [
    "def compute_matrix(season, df):\n",
    "    season_data = df[df['season'] == season]\n",
    "    athletes = season_data['ath_name'].unique()\n",
    "    number_athletes = len(athletes)\n",
    "\n",
    "    athlete_index = {}\n",
    "    reverse_index = {}\n",
    "    i = 0\n",
    "    for athlete in athletes:\n",
    "        athlete_index[athlete] = i\n",
    "        reverse_index[i]=athlete\n",
    "        i+=1\n",
    "\n",
    "    matrix = np.zeros((number_athletes, number_athletes), dtype=np.int32)\n",
    "\n",
    "    races = season_data[['venue','event','date']].drop_duplicates()\n",
    "    races = races.reset_index()\n",
    "    for i, row in races.iterrows():\n",
    "        race = season_data[(season_data['venue']==races.iloc[i]['venue'])&(season_data['event']==races.iloc[i]['event'])&(season_data['date']==races.iloc[i]['date'])]\n",
    "\n",
    "        for athlete1 in race['ath_name']:\n",
    "            for athlete2 in race['ath_name']:\n",
    "                if athlete1 != athlete2:\n",
    "                    matrix[athlete_index[athlete1],athlete_index[athlete2]] += 1\n",
    "\n",
    "    return matrix, reverse_index"
   ]
  },
  {
   "cell_type": "code",
   "execution_count": null,
   "metadata": {},
   "outputs": [],
   "source": [
    "def get_winner_ranking(ranking,year, isMale=True):\n",
    "    gender = 'm' if isMale else 'f'\n",
    "    ranking = '_'+ranking+'_' if ranking != 'Overall' else '_'\n",
    "    rankings = pd.read_csv(f'../website/data/rankings/wc{gender}{ranking}ranking_{year}.csv')\n",
    "    return rankings[rankings['date'] ==rankings['date'].max()].sort_values('value', ascending=False).iloc[0]['name']\n",
    "\n",
    "def get_winners(year, isMale=True, verbose=False):\n",
    "    rankings = ['Parallel', 'Super G','Combined',  'Giant Slalom',  'Slalom','Downhill' ,'Overall']\n",
    "    \n",
    "    winners={}\n",
    "    for ranking in rankings:\n",
    "        try:\n",
    "            winners[get_winner_ranking(ranking, year, isMale)] = ranking \n",
    "        except:\n",
    "            if(verbose):\n",
    "                print('not found : '+ranking+', '+str(year)+', '+str(isMale))\n",
    "    return winners"
   ]
  },
  {
   "cell_type": "code",
   "execution_count": null,
   "metadata": {},
   "outputs": [],
   "source": [
    "def graph_to_json(graph, reverse_index,winners,filename):\n",
    "    groups = {'Overall':1,'Downhill':2,'Super G':3,'Giant Slalom':4,'Slalom':5,'Combined':6,'Parallel':7 }\n",
    "    edges = list(graph.edges)\n",
    "    nodes = list(graph.nodes)\n",
    "\n",
    "    links_json = []\n",
    "    for edge in edges:\n",
    "        links_json.append({\"source\":edge[0], \"target\":edge[1], \"value\":1})\n",
    "\n",
    "    nodes_json = []\n",
    "    for node in nodes:\n",
    "        group = 0\n",
    "        name = reverse_index[node]\n",
    "        if(name in winners):\n",
    "            group = groups[winners[name]]\n",
    "        nodes_json.append({\"id\":str(node),\"name\":name, \"group\":group})\n",
    "\n",
    "    graph = {\"nodes\":nodes_json, \"links\":links_json}\n",
    "    with open(filename, \"w\") as json_file:\n",
    "        json.dump(graph, json_file)"
   ]
  },
  {
   "cell_type": "code",
   "execution_count": null,
   "metadata": {},
   "outputs": [],
   "source": [
    "def drop_node_degree_zero(graph):\n",
    "    to_remove = [node for node, degree in dict(graph.degree()).items() if degree == 0]\n",
    "    graph.remove_nodes_from(to_remove)\n",
    "    return graph"
   ]
  },
  {
   "cell_type": "code",
   "execution_count": null,
   "metadata": {},
   "outputs": [],
   "source": [
    "threshold_change_years = [1979,1992,2001]\n",
    "thresholds = [2,3,4,10]\n",
    "MALE = False\n",
    "PATH = \"./data/wc\"\n",
    "\n",
    "if MALE:\n",
    "    PATH += \"m\"\n",
    "else:\n",
    "    PATH += \"f\"\n",
    "PATH += '_graph_'\n",
    "    \n",
    "df = remove_cancelled_race(parseCSV(MALE))\n",
    "seasons = list(df['season'].unique())\n",
    "\n",
    "threshold_index = 0\n",
    "for season in seasons:\n",
    "    if(season in threshold_change_years):\n",
    "        threshold_index+=1\n",
    "    winners = get_winners(season, MALE)\n",
    "    matrix, reverse_index = compute_matrix(season, df)\n",
    "    adjacency = matrix.copy()\n",
    "    adjacency[adjacency <=thresholds[threshold_index]] = 0\n",
    "    adjacency[adjacency > thresholds[threshold_index]] = 1\n",
    "    graph=nx.from_numpy_matrix(adjacency)\n",
    "    graph=drop_node_degree_zero(graph)\n",
    "    graph_to_json(graph, reverse_index,winners,PATH+str(season)+\".json\")"
   ]
  },
  {
   "cell_type": "code",
   "execution_count": null,
   "metadata": {},
   "outputs": [],
   "source": [
    "df = remove_cancelled_race(parseCSV(True))\n",
    "seasons = list(df['season'].unique())\n",
    "num_athletes = []\n",
    "for season in seasons:\n",
    "    season_data = df[df['season'] == season]\n",
    "    athletes = season_data['ath_name'].unique()\n",
    "    number_athletes = len(athletes)\n",
    "    num_athletes.append(number_athletes)\n",
    "\n",
    "\n",
    "fig, ax = plt.subplots(figsize=(25,11))\n",
    "ax = sns.barplot(ax=ax,x=seasons,color=[0,134.0/255,1], y=num_athletes)\n",
    "ax.set_title(\"Athletes per season\")\n",
    "ax.set_xlabel(\"Seasons\")\n",
    "ax.set_ylabel(\"# athletes\")\n",
    "plt.show()\n",
    "fig.savefig('threshold.png')"
   ]
  },
  {
   "cell_type": "code",
   "execution_count": null,
   "metadata": {},
   "outputs": [],
   "source": [
    "df"
   ]
  },
  {
   "cell_type": "code",
   "execution_count": null,
   "metadata": {},
   "outputs": [],
   "source": [
    "matrix = compute_matrix(2019, dfm)"
   ]
  },
  {
   "cell_type": "code",
   "execution_count": null,
   "metadata": {},
   "outputs": [],
   "source": [
    "G=nx.from_numpy_matrix(matrix)\n",
    "nx.draw_kamada_kawai(G, with_labels=True,  alpha = 0.8)"
   ]
  },
  {
   "cell_type": "code",
   "execution_count": null,
   "metadata": {},
   "outputs": [],
   "source": [
    "adjacency = matrix.copy()\n",
    "adjacency[adjacency <=10] = 0\n",
    "adjacency[adjacency > 10] = 1"
   ]
  },
  {
   "cell_type": "code",
   "execution_count": null,
   "metadata": {},
   "outputs": [],
   "source": [
    "G2=nx.from_numpy_matrix(adjacency)\n",
    "nx.draw_kamada_kawai(G2, with_labels=False,  alpha = 0.5)"
   ]
  },
  {
   "cell_type": "code",
   "execution_count": null,
   "metadata": {},
   "outputs": [],
   "source": [
    "matrix_1980 = compute_matrix(1980, dfm)\n",
    "adjacency_1980 = matrix_1980.copy()\n",
    "adjacency_1980[adjacency_1980 <=2] = 0\n",
    "adjacency_1980[adjacency_1980 > 2] = 1\n",
    "G3=nx.from_numpy_matrix(adjacency_1980)\n",
    "nx.draw_kamada_kawai(G3, with_labels=False,  alpha = 0.5)"
   ]
  },
  {
   "cell_type": "code",
   "execution_count": null,
   "metadata": {},
   "outputs": [],
   "source": [
    " list(df['season'].unique())"
   ]
  }
 ],
 "metadata": {
  "kernelspec": {
   "display_name": "Python 3",
   "language": "python",
   "name": "python3"
  },
  "language_info": {
   "codemirror_mode": {
    "name": "ipython",
    "version": 3
   },
   "file_extension": ".py",
   "mimetype": "text/x-python",
   "name": "python",
   "nbconvert_exporter": "python",
   "pygments_lexer": "ipython3",
   "version": "3.8.2"
  }
 },
 "nbformat": 4,
 "nbformat_minor": 4
}
