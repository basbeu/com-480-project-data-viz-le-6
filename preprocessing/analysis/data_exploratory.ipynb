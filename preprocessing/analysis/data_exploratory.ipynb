{
 "cells": [
  {
   "cell_type": "markdown",
   "metadata": {},
   "source": [
    "# Assumptions (potiential problems)\n",
    " - ath_name == '' means race cancelled (checked for a few of events)\n",
    "   - correct, afaik\n",
    " - ['season', 'venue', 'event', 'date', 'gender'] identify uniquely a race\n",
    "     - we do not get the same number of races as https://en.wikipedia.org/wiki/FIS_Alpine_Ski_World_Cup\n",
    " - ['season', 'event', 'date', 'gender', 'ath_name'] is a unique index for the data frames"
   ]
  },
  {
   "cell_type": "code",
   "execution_count": null,
   "metadata": {},
   "outputs": [],
   "source": [
    "import numpy as np\n",
    "import matplotlib.pyplot as plt \n",
    "import pandas as pd\n",
    "import seaborn as sns"
   ]
  },
  {
   "cell_type": "code",
   "execution_count": null,
   "metadata": {},
   "outputs": [],
   "source": [
    "def parseCSV(isMale=True):\n",
    "    gender = 'm' if isMale else 'f'\n",
    "    df = pd.read_csv(f'../../data/wc{gender}.csv')\n",
    "    df = df.replace(np.nan, '', regex=True)\n",
    "    df.date = pd.to_datetime(df.date, format='%Y-%m-%d')\n",
    "    df['gender'] = gender\n",
    "    return df"
   ]
  },
  {
   "cell_type": "code",
   "execution_count": null,
   "metadata": {},
   "outputs": [],
   "source": [
    "def remove_cancelled_race(df):\n",
    "    return df[df['ath_name']!='']"
   ]
  },
  {
   "cell_type": "code",
   "execution_count": null,
   "metadata": {},
   "outputs": [],
   "source": [
    "def number_season(df):\n",
    "    return len(df['season'].unique())\n",
    "\n",
    "def number_races(df):\n",
    "    return len(df[['season', 'venue', 'event','date', 'gender']].drop_duplicates())\n",
    "\n",
    "def number_athletes(df):\n",
    "    return len(df['ath_name'].unique())\n",
    "\n",
    "def number_country(df):\n",
    "    return len(df['ath_country'].unique())\n",
    "\n",
    "def number_races_events(df):\n",
    "    return df[['season', 'venue', 'event','date','gender']].drop_duplicates()[['venue', 'event']].groupby('event').count()\n",
    "\n",
    "def number_races_years(df):\n",
    "    return df[['season', 'venue', 'event', 'date', 'gender']].drop_duplicates()[['event','season']].groupby('season').count()\n",
    "    "
   ]
  },
  {
   "cell_type": "code",
   "execution_count": null,
   "metadata": {},
   "outputs": [],
   "source": [
    "def show_basic_stats(df):\n",
    "    print('# seasons  :', number_season(df))\n",
    "    print('# races    :', number_races(df))\n",
    "    print('# athletes :', number_athletes(df))\n",
    "    print('# country  :', number_country(df))\n",
    "    print(number_races_events(df))"
   ]
  },
  {
   "cell_type": "code",
   "execution_count": null,
   "metadata": {},
   "outputs": [],
   "source": [
    "dfm = remove_cancelled_race(parseCSV())\n",
    "dff = remove_cancelled_race(parseCSV(False))\n",
    "both = pd.concat([dfm, dff])\n",
    "print('-----  World Cup Men -----')\n",
    "show_basic_stats(dfm)\n",
    "\n",
    "print('-----  World Cup Women -----')\n",
    "show_basic_stats(dff)\n",
    "\n",
    "print('-----  World Cup Women -----')\n",
    "show_basic_stats(both)"
   ]
  },
  {
   "cell_type": "code",
   "execution_count": null,
   "metadata": {},
   "outputs": [],
   "source": [
    "fig, axes = plt.subplots(nrows=1, ncols=1, figsize=(15,5))\n",
    "axes = number_races_years(both).plot.bar(ax=axes,title='Number of races per season', color=(0, 134/255.0, 1))\n",
    "axes.set_xlabel(\"Season\")\n",
    "axes.set_ylabel(\"Number of races\")\n",
    "fig.savefig('races_per_year.png')"
   ]
  },
  {
   "cell_type": "code",
   "execution_count": null,
   "metadata": {},
   "outputs": [],
   "source": [
    "events = pd.DataFrame(columns=['Downhill','Super G','Giant Slalom','Slalom','Combined','Parallel','decade'])\n",
    "decades = [\"70's\", \"80's\", \"90's\", \"00's\", \"10's\"]\n",
    "\n",
    "start = 1970 \n",
    "end = 1980\n",
    "i = 0\n",
    "while(end < 2021):\n",
    "    e = number_races_events(both[(both['season'] >= start) &(both['season'] < end)])\n",
    "    e = e.transpose().reset_index().drop('index', axis=1)\n",
    "    e['decade'] = decades[i]\n",
    "    e.set_index('decade')\n",
    "    events = pd.concat([events, e])\n",
    "    start +=10\n",
    "    end +=10\n",
    "    i+=1\n",
    "events = events.set_index('decade')"
   ]
  },
  {
   "cell_type": "code",
   "execution_count": null,
   "metadata": {},
   "outputs": [],
   "source": [
    "events"
   ]
  },
  {
   "cell_type": "code",
   "execution_count": null,
   "metadata": {},
   "outputs": [],
   "source": [
    "fig, axes = plt.subplots(nrows=1, ncols=1, figsize=(15,5))\n",
    "axes = events.plot.bar(ax=axes, title='Number of events per decade',rot=0)\n",
    "axes.legend(loc=\"center right\",bbox_to_anchor=(1.13, 0.5))\n",
    "axes.set_xlabel(\"Decades\")\n",
    "axes.set_ylabel(\"Number of events\")\n",
    "\n",
    "fig.savefig('events_per_decades.png')"
   ]
  },
  {
   "cell_type": "code",
   "execution_count": null,
   "metadata": {},
   "outputs": [],
   "source": [
    "both[both['ath_time_run_1']!=0].sort_values('season')"
   ]
  },
  {
   "cell_type": "markdown",
   "metadata": {},
   "source": [
    "## Corrections\n",
    "\n",
    "Attention: after parsing, WCM has 2 Kitzbüehl Downhill races on the 1995-01-14. One of them was on the 1995-01-13. Corrected manually."
   ]
  },
  {
   "cell_type": "code",
   "execution_count": null,
   "metadata": {},
   "outputs": [],
   "source": [
    "dfm_indexed = dfm.set_index(['season', 'date', 'venue', 'country', 'event', 'ath_name'])\n",
    "dfm_indexed.index.is_unique#.value_counts().head(30)"
   ]
  },
  {
   "cell_type": "code",
   "execution_count": null,
   "metadata": {},
   "outputs": [],
   "source": [
    "dff_indexed = dff.set_index(['season', 'date', 'venue', 'country', 'event', 'ath_name'])\n",
    "dff_indexed.index.is_unique#.value_counts().head(30)"
   ]
  }
 ],
 "metadata": {
  "kernelspec": {
   "display_name": "Python 3",
   "language": "python",
   "name": "python3"
  },
  "language_info": {
   "codemirror_mode": {
    "name": "ipython",
    "version": 3
   },
   "file_extension": ".py",
   "mimetype": "text/x-python",
   "name": "python",
   "nbconvert_exporter": "python",
   "pygments_lexer": "ipython3",
   "version": "3.7.3"
  }
 },
 "nbformat": 4,
 "nbformat_minor": 4
}
