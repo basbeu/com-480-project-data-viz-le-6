{
 "cells": [
  {
   "cell_type": "code",
   "execution_count": 4,
   "metadata": {},
   "outputs": [],
   "source": [
    "import pandas as pd\n",
    "import numpy as np\n",
    "from iso3166 import countries"
   ]
  },
  {
   "cell_type": "code",
   "execution_count": 5,
   "metadata": {},
   "outputs": [],
   "source": [
    "wf = \"wcm\""
   ]
  },
  {
   "cell_type": "code",
   "execution_count": 6,
   "metadata": {
    "scrolled": true
   },
   "outputs": [],
   "source": [
    "\n",
    "df_rank_67_79 = pd.read_csv(f'../../data/points67-79.csv')#, index_col=0)\n",
    "df_rank_79 = pd.read_csv(f'../../data/points79.csv')\n",
    "df_rank_80_91 = pd.read_csv(f'../../data/points80-91.csv')\n",
    "df_rank_92 = pd.read_csv(f'../../data/points92.csv')\n",
    "df_rank_93_now = pd.read_csv(f'../../data/points93-now.csv')"
   ]
  },
  {
   "cell_type": "code",
   "execution_count": 7,
   "metadata": {},
   "outputs": [],
   "source": [
    "country_translation = {\n",
    "    \"MON\": \"MCO\",\n",
    "    \"MAD\": \"MDG\",\n",
    "    \"CRO\": \"HRV\",\n",
    "    \"BUL\": \"BGR\",\n",
    "    \"ZIM\": \"ZWE\",\n",
    "    \"CKS\": \"SVK\",\n",
    "    \"DAN\": \"DNK\",\n",
    "    \"KOS\": \"XKX\",\n",
    "    \"URS\": \"RUS\",\n",
    "    \"GRE\": \"GRC\",\n",
    "    \"CHI\": \"CHL\",\n",
    "    \"SUI\": \"CHE\",\n",
    "    \"NED\": \"NLD\",\n",
    "    \"IRA\": \"IRN\",\n",
    "    \"LIB\": \"LBN\",\n",
    "    \"SLO\": \"SVK\",\n",
    "    \"LAT\": \"LVA\",\n",
    "    \"GER\": \"DEU\",\n",
    "    \"JUG\": \"SRB\",\n",
    "    \"IRE\": \"IRL\",\n",
    "    \"RSA\": \"ZAF\",\n",
    "    \"SPA\": \"ESP\",\n",
    "}"
   ]
  },
  {
   "cell_type": "code",
   "execution_count": 8,
   "metadata": {},
   "outputs": [],
   "source": [
    "def get_alpha2_country(alpha3_name):\n",
    "    return getattr(countries.get(country_translation.get(alpha3_name, alpha3_name), alpha3_name), \"alpha2\", \"\")\n"
   ]
  },
  {
   "cell_type": "code",
   "execution_count": 9,
   "metadata": {},
   "outputs": [],
   "source": [
    "def give_parallel_points(position):\n",
    "    points = {1:100,\n",
    "              2:80,\n",
    "              3:60,\n",
    "              4:50,\n",
    "              5:40,\n",
    "              9:15}\n",
    "    return points.get(position, 0)"
   ]
  },
  {
   "cell_type": "code",
   "execution_count": 10,
   "metadata": {},
   "outputs": [],
   "source": [
    "def get_points(season):\n",
    "    df_rank = df_rank_93_now\n",
    "    if (season < 1979):\n",
    "        df_rank = df_rank_67_79\n",
    "    elif (season < 1980):\n",
    "        df_rank = df_rank_79\n",
    "    elif (season < 1992):\n",
    "        df_rank = df_rank_80_91\n",
    "    elif (season < 1993):\n",
    "        df_rank = df_rank_92\n",
    "    else:\n",
    "        df_rank = df_rank_93_now\n",
    "        \n",
    "    return df_rank"
   ]
  },
  {
   "cell_type": "code",
   "execution_count": 47,
   "metadata": {},
   "outputs": [
    {
     "name": "stderr",
     "output_type": "stream",
     "text": [
      "/Users/macjol/anaconda3/lib/python3.6/site-packages/ipykernel_launcher.py:48: SettingWithCopyWarning: \n",
      "A value is trying to be set on a copy of a slice from a DataFrame.\n",
      "Try using .loc[row_indexer,col_indexer] = value instead\n",
      "\n",
      "See the caveats in the documentation: http://pandas.pydata.org/pandas-docs/stable/user_guide/indexing.html#returning-a-view-versus-a-copy\n"
     ]
    }
   ],
   "source": [
    "for wf in [\"wcm\", \"wcf\"]:\n",
    "    df = pd.read_csv(f'../../data/{wf}.csv').drop(['ath_ski'], axis=1)\n",
    "    df.ath_country = df.ath_country.apply(get_alpha2_country)\n",
    "    for season in range(1967, 2021):\n",
    "\n",
    "\n",
    "        df_rank = get_points(season)\n",
    "\n",
    "        df_season = df[df[\"season\"] == season]\n",
    "        df_season = df_season.dropna()\n",
    "\n",
    "        df_season[\"ath_rank\"]=df_season[\"ath_rank\"].apply(lambda x: np.where(x.isdigit(),x,'0')).astype(int)\n",
    "\n",
    "        events = df_season[[\"season\", \"date\", \"venue\", \"country\", \"event\"]].drop_duplicates().reset_index(drop=\"True\")\n",
    "        events[\"key\"] = 0\n",
    "        skiers = df_season[[\"ath_name\", \"ath_country\", \"ath_id\"]].drop_duplicates().reset_index(drop=\"True\")\n",
    "        skiers[\"key\"] = 0\n",
    "\n",
    "        cart_prod = events.merge(skiers, how='outer')\n",
    "\n",
    "        df_season = pd.merge(cart_prod, df_season,  how='left', left_on=[\"season\", \"date\", \"venue\", \"country\", \"event\", \"ath_name\", \"ath_country\", \"ath_id\"], right_on = [\"season\", \"date\", \"venue\", \"country\", \"event\", \"ath_name\", \"ath_country\", \"ath_id\"])\n",
    "        df_season = df_season.fillna(0, downcast='infer')\n",
    "        df_total = pd.merge(df_season, df_rank, on=\"ath_rank\")\n",
    "        \n",
    "        specialty = df_total.groupby([\"ath_name\", \"event\"]).points.sum().reset_index()\n",
    "        specialty = specialty.loc[specialty.groupby('ath_name')['points'].idxmax()].rename(columns={\"event\": \"specialty\"}).reset_index().drop([\"index\", \"points\"], axis = 1)\n",
    "        \n",
    "        df_total = pd.merge(df_total, specialty, on=\"ath_name\")\n",
    "        \n",
    "        df_total = df_total.sort_values(by=['date'])\n",
    "        df_total[\"value\"] = df_total.groupby(['ath_name'])[\"points\"].cumsum()\n",
    "        \n",
    "        df_total.rename(columns={\"ath_name\": \"name\"})[[\"date\", \"name\", \"ath_country\", \"value\", \"specialty\"]].to_csv(f\"../../web/website/data/{wf}_ranking_{season}.csv\", index=False,)\n",
    "        \n",
    "        \n",
    "\n",
    "        df_rank = get_points(season)\n",
    "\n",
    "\n",
    "\n",
    "\n",
    "        df_season = df[df[\"season\"] == season]\n",
    "        df_season = df_season.dropna()\n",
    "\n",
    "        for event in set(df_season.event.tolist()):\n",
    "            df_season_event = df_season[df_season[\"event\"] == event]\n",
    "\n",
    "            df_season_event[\"ath_rank\"]=df_season_event[\"ath_rank\"].apply(lambda x: np.where(x.isdigit(),x,'0')).astype(int)\n",
    "\n",
    "            events = df_season_event[[\"season\", \"date\", \"venue\", \"country\", \"event\"]].drop_duplicates().reset_index(drop=\"True\")\n",
    "            events[\"key\"] = 0\n",
    "            skiers = df_season_event[[\"ath_name\", \"ath_country\", \"ath_id\"]].drop_duplicates().reset_index(drop=\"True\")\n",
    "            skiers[\"key\"] = 0\n",
    "\n",
    "            cart_prod = events.merge(skiers, how='outer')\n",
    "\n",
    "            df_season_event = pd.merge(cart_prod, df_season_event,  how='left', left_on=[\"season\", \"date\", \"venue\", \"country\", \"event\", \"ath_name\", \"ath_country\", \"ath_id\"], right_on = [\"season\", \"date\", \"venue\", \"country\", \"event\", \"ath_name\", \"ath_country\", \"ath_id\"])\n",
    "            df_season_event = df_season_event.fillna(0, downcast='infer')\n",
    "            df_total = pd.merge(df_season_event, df_rank, on=\"ath_rank\")\n",
    "            \n",
    "            df_total = pd.merge(df_total, specialty, on=\"ath_name\")\n",
    "        \n",
    "            df_total = df_total.sort_values(by=['date'])\n",
    "            \n",
    "\n",
    "            df_total[\"value\"] = df_total.groupby(['ath_name'])[\"points\"].cumsum()\n",
    "            df_total.rename(columns={\"ath_name\": \"name\"})[[\"date\", \"name\", \"ath_country\", \"value\", \"specialty\"]].to_csv(f\"../../web/website/data/{wf}_{event}_ranking_{season}.csv\", index=False,)"
   ]
  },
  {
   "cell_type": "code",
   "execution_count": 48,
   "metadata": {},
   "outputs": [
    {
     "data": {
      "text/plain": [
       "{'Combined', 'Downhill', 'Giant Slalom', 'Parallel', 'Slalom', 'Super G'}"
      ]
     },
     "execution_count": 48,
     "metadata": {},
     "output_type": "execute_result"
    }
   ],
   "source": [
    "set(df.event.tolist())"
   ]
  },
  {
   "cell_type": "code",
   "execution_count": 34,
   "metadata": {},
   "outputs": [
    {
     "data": {
      "text/html": [
       "<div>\n",
       "<style scoped>\n",
       "    .dataframe tbody tr th:only-of-type {\n",
       "        vertical-align: middle;\n",
       "    }\n",
       "\n",
       "    .dataframe tbody tr th {\n",
       "        vertical-align: top;\n",
       "    }\n",
       "\n",
       "    .dataframe thead th {\n",
       "        text-align: right;\n",
       "    }\n",
       "</style>\n",
       "<table border=\"1\" class=\"dataframe\">\n",
       "  <thead>\n",
       "    <tr style=\"text-align: right;\">\n",
       "      <th></th>\n",
       "      <th>ath_name</th>\n",
       "      <th>event</th>\n",
       "      <th>points</th>\n",
       "    </tr>\n",
       "  </thead>\n",
       "  <tbody>\n",
       "    <tr>\n",
       "      <th>0</th>\n",
       "      <td>AJ Hurt</td>\n",
       "      <td>Combined</td>\n",
       "      <td>0</td>\n",
       "    </tr>\n",
       "    <tr>\n",
       "      <th>9</th>\n",
       "      <td>Adriana Jelinkova</td>\n",
       "      <td>Parallel</td>\n",
       "      <td>1</td>\n",
       "    </tr>\n",
       "    <tr>\n",
       "      <th>13</th>\n",
       "      <td>Aleksandra Prokopyeva</td>\n",
       "      <td>Downhill</td>\n",
       "      <td>9</td>\n",
       "    </tr>\n",
       "    <tr>\n",
       "      <th>20</th>\n",
       "      <td>Alexandra Tilley</td>\n",
       "      <td>Giant Slalom</td>\n",
       "      <td>32</td>\n",
       "    </tr>\n",
       "    <tr>\n",
       "      <th>28</th>\n",
       "      <td>Ali Nullmeyer</td>\n",
       "      <td>Slalom</td>\n",
       "      <td>27</td>\n",
       "    </tr>\n",
       "    <tr>\n",
       "      <th>...</th>\n",
       "      <td>...</td>\n",
       "      <td>...</td>\n",
       "      <td>...</td>\n",
       "    </tr>\n",
       "    <tr>\n",
       "      <th>1200</th>\n",
       "      <td>Vivien Insam</td>\n",
       "      <td>Combined</td>\n",
       "      <td>0</td>\n",
       "    </tr>\n",
       "    <tr>\n",
       "      <th>1210</th>\n",
       "      <td>Wendy Holdener</td>\n",
       "      <td>Slalom</td>\n",
       "      <td>260</td>\n",
       "    </tr>\n",
       "    <tr>\n",
       "      <th>1216</th>\n",
       "      <td>Ylva Staalnacke</td>\n",
       "      <td>Slalom</td>\n",
       "      <td>12</td>\n",
       "    </tr>\n",
       "    <tr>\n",
       "      <th>1218</th>\n",
       "      <td>Zazie Huml</td>\n",
       "      <td>Combined</td>\n",
       "      <td>0</td>\n",
       "    </tr>\n",
       "    <tr>\n",
       "      <th>1224</th>\n",
       "      <td>Zuzanna Czapska</td>\n",
       "      <td>Combined</td>\n",
       "      <td>0</td>\n",
       "    </tr>\n",
       "  </tbody>\n",
       "</table>\n",
       "<p>205 rows × 3 columns</p>\n",
       "</div>"
      ],
      "text/plain": [
       "                   ath_name         event  points\n",
       "0                   AJ Hurt      Combined       0\n",
       "9         Adriana Jelinkova      Parallel       1\n",
       "13    Aleksandra Prokopyeva      Downhill       9\n",
       "20         Alexandra Tilley  Giant Slalom      32\n",
       "28            Ali Nullmeyer        Slalom      27\n",
       "...                     ...           ...     ...\n",
       "1200           Vivien Insam      Combined       0\n",
       "1210         Wendy Holdener        Slalom     260\n",
       "1216        Ylva Staalnacke        Slalom      12\n",
       "1218             Zazie Huml      Combined       0\n",
       "1224        Zuzanna Czapska      Combined       0\n",
       "\n",
       "[205 rows x 3 columns]"
      ]
     },
     "execution_count": 34,
     "metadata": {},
     "output_type": "execute_result"
    }
   ],
   "source": []
  },
  {
   "cell_type": "code",
   "execution_count": 9,
   "metadata": {},
   "outputs": [
    {
     "name": "stderr",
     "output_type": "stream",
     "text": [
      "/Users/macjol/anaconda3/lib/python3.6/site-packages/ipykernel_launcher.py:17: SettingWithCopyWarning: \n",
      "A value is trying to be set on a copy of a slice from a DataFrame.\n",
      "Try using .loc[row_indexer,col_indexer] = value instead\n",
      "\n",
      "See the caveats in the documentation: http://pandas.pydata.org/pandas-docs/stable/user_guide/indexing.html#returning-a-view-versus-a-copy\n"
     ]
    }
   ],
   "source": [
    "for wf in [\"wcm\", \"wcf\"]:\n",
    "    df = pd.read_csv(f'../../data/{wf}.csv').drop(['ath_ski'], axis=1)\n",
    "    df.ath_country = df.ath_country.apply(get_alpha2_country)\n",
    "    for season in range(1967, 2021):\n",
    "\n",
    "        df_rank = get_points(season)\n",
    "\n",
    "\n",
    "\n",
    "\n",
    "        df_season = df[df[\"season\"] == season]\n",
    "        df_season = df_season.dropna()\n",
    "\n",
    "        for event in set(df_season.event.tolist()):\n",
    "            df_season_event = df_season[df_season[\"event\"] == event]\n",
    "\n",
    "            df_season_event[\"ath_rank\"]=df_season_event[\"ath_rank\"].apply(lambda x: np.where(x.isdigit(),x,'0')).astype(int)\n",
    "\n",
    "            events = df_season_event[[\"season\", \"date\", \"venue\", \"country\", \"event\"]].drop_duplicates().reset_index(drop=\"True\")\n",
    "            events[\"key\"] = 0\n",
    "            skiers = df_season_event[[\"ath_name\", \"ath_country\", \"ath_id\"]].drop_duplicates().reset_index(drop=\"True\")\n",
    "            skiers[\"key\"] = 0\n",
    "\n",
    "            cart_prod = events.merge(skiers, how='outer')\n",
    "\n",
    "            df_season_event = pd.merge(cart_prod, df_season_event,  how='left', left_on=[\"season\", \"date\", \"venue\", \"country\", \"event\", \"ath_name\", \"ath_country\", \"ath_id\"], right_on = [\"season\", \"date\", \"venue\", \"country\", \"event\", \"ath_name\", \"ath_country\", \"ath_id\"])\n",
    "            df_season_event = df_season_event.fillna(0, downcast='infer')\n",
    "            df_total = pd.merge(df_season_event, df_rank, on=\"ath_rank\").sort_values(by=['date'])\n",
    "            df_total[\"value\"] = df_total.groupby(['ath_name'])[\"points\"].cumsum()\n",
    "            df_total.rename(columns={\"ath_name\": \"name\"})[[\"date\", \"name\", \"ath_country\", \"value\"]].to_csv(f\"../../web/website/data/{wf}_{event}_ranking_{season}.csv\", index=False,)"
   ]
  },
  {
   "cell_type": "code",
   "execution_count": 10,
   "metadata": {
    "scrolled": false
   },
   "outputs": [
    {
     "data": {
      "image/png": "[encoded data removed]",
      "text/plain": [
       "<PIL.PngImagePlugin.PngImageFile image mode=RGBA size=64x64 at 0x10AAB1FD0>"
      ]
     },
     "metadata": {},
     "output_type": "display_data"
    },
    {
     "data": {
      "image/png": "[encoded data removed]",
      "text/plain": [
       "<PIL.PngImagePlugin.PngImageFile image mode=RGBA size=64x64 at 0x10AAAA978>"
      ]
     },
     "metadata": {},
     "output_type": "display_data"
    },
    {
     "data": {
      "image/png": "[encoded data removed]",
      "text/plain": [
       "<PIL.PngImagePlugin.PngImageFile image mode=RGBA size=64x64 at 0x10AAED048>"
      ]
     },
     "metadata": {},
     "output_type": "display_data"
    },
    {
     "data": {
      "image/png": "[encoded data removed]",
      "text/plain": [
       "<PIL.PngImagePlugin.PngImageFile image mode=RGBA size=64x64 at 0x1074AFE48>"
      ]
     },
     "metadata": {},
     "output_type": "display_data"
    },
    {
     "data": {
      "image/png": "[encoded data removed]",
      "text/plain": [
       "<PIL.PngImagePlugin.PngImageFile image mode=RGBA size=64x64 at 0x10AAAA908>"
      ]
     },
     "metadata": {},
     "output_type": "display_data"
    },
    {
     "data": {
      "image/png": "[encoded data removed]",
      "text/plain": [
       "<PIL.PngImagePlugin.PngImageFile image mode=RGBA size=64x64 at 0x10AAC2F98>"
      ]
     },
     "metadata": {},
     "output_type": "display_data"
    },
    {
     "data": {
      "image/png": "[encoded data removed]",
      "text/plain": [
       "<PIL.PngImagePlugin.PngImageFile image mode=RGBA size=64x64 at 0x10A6EF278>"
      ]
     },
     "metadata": {},
     "output_type": "display_data"
    },
    {
     "data": {
      "image/png": "[encoded data removed]",
      "text/plain": [
       "<PIL.PngImagePlugin.PngImageFile image mode=RGBA size=64x64 at 0x10AAAA978>"
      ]
     },
     "metadata": {},
     "output_type": "display_data"
    },
    {
     "data": {
      "image/png": "[encoded data removed]",
      "text/plain": [
       "<PIL.PngImagePlugin.PngImageFile image mode=RGBA size=64x64 at 0x10AAAA828>"
      ]
     },
     "metadata": {},
     "output_type": "display_data"
    },
    {
     "data": {
      "image/png": "[encoded data removed]",
      "text/plain": [
       "<PIL.PngImagePlugin.PngImageFile image mode=RGBA size=64x64 at 0x1074AFE48>"
      ]
     },
     "metadata": {},
     "output_type": "display_data"
    },
    {
     "data": {
      "image/png": "[encoded data removed]",
      "text/plain": [
       "<PIL.PngImagePlugin.PngImageFile image mode=RGBA size=64x64 at 0x1091FA2B0>"
      ]
     },
     "metadata": {},
     "output_type": "display_data"
    },
    {
     "data": {
      "image/png": "[encoded data removed]",
      "text/plain": [
       "<PIL.PngImagePlugin.PngImageFile image mode=RGBA size=64x64 at 0x10AAAA978>"
      ]
     },
     "metadata": {},
     "output_type": "display_data"
    },
    {
     "data": {
      "image/png": "[encoded data removed]",
      "text/plain": [
       "<PIL.PngImagePlugin.PngImageFile image mode=RGBA size=64x64 at 0x10AAED048>"
      ]
     },
     "metadata": {},
     "output_type": "display_data"
    },
    {
     "data": {
      "image/png": "[encoded data removed]",
      "text/plain": [
       "<PIL.PngImagePlugin.PngImageFile image mode=RGBA size=64x64 at 0x10AAB9550>"
      ]
     },
     "metadata": {},
     "output_type": "display_data"
    },
    {
     "data": {
      "image/png": "[encoded data removed]",
      "text/plain": [
       "<PIL.PngImagePlugin.PngImageFile image mode=RGBA size=64x64 at 0x10AAAA8D0>"
      ]
     },
     "metadata": {},
     "output_type": "display_data"
    },
    {
     "data": {
      "image/png": "[encoded data removed]",
      "text/plain": [
       "<PIL.PngImagePlugin.PngImageFile image mode=RGBA size=64x64 at 0x10AAAA908>"
      ]
     },
     "metadata": {},
     "output_type": "display_data"
    },
    {
     "data": {
      "image/png": "[encoded data removed]",
      "text/plain": [
       "<PIL.PngImagePlugin.PngImageFile image mode=RGBA size=64x64 at 0x10A6A0D68>"
      ]
     },
     "metadata": {},
     "output_type": "display_data"
    },
    {
     "data": {
      "image/png": "[encoded data removed]",
      "text/plain": [
       "<PIL.PngImagePlugin.PngImageFile image mode=RGBA size=64x64 at 0x10AAB94A8>"
      ]
     },
     "metadata": {},
     "output_type": "display_data"
    },
    {
     "data": {
      "image/png": "[encoded data removed]",
      "text/plain": [
       "<PIL.PngImagePlugin.PngImageFile image mode=RGBA size=64x64 at 0x10AAC2F98>"
      ]
     },
     "metadata": {},
     "output_type": "display_data"
    },
    {
     "data": {
      "image/png": "[encoded data removed]",
      "text/plain": [
       "<PIL.PngImagePlugin.PngImageFile image mode=RGBA size=64x64 at 0x10AAAA8D0>"
      ]
     },
     "metadata": {},
     "output_type": "display_data"
    },
    {
     "data": {
      "image/png": "[encoded data removed]",
      "text/plain": [
       "<PIL.PngImagePlugin.PngImageFile image mode=RGBA size=64x64 at 0x10AAB94A8>"
      ]
     },
     "metadata": {},
     "output_type": "display_data"
    },
    {
     "data": {
      "image/png": "[encoded data removed]",
      "text/plain": [
       "<PIL.PngImagePlugin.PngImageFile image mode=RGBA size=64x64 at 0x10AAB92B0>"
      ]
     },
     "metadata": {},
     "output_type": "display_data"
    },
    {
     "data": {
      "image/png": "[encoded data removed]",
      "text/plain": [
       "<PIL.PngImagePlugin.PngImageFile image mode=RGBA size=64x64 at 0x10AAC2E48>"
      ]
     },
     "metadata": {},
     "output_type": "display_data"
    },
    {
     "data": {
      "image/png": "[encoded data removed]",
      "text/plain": [
       "<PIL.PngImagePlugin.PngImageFile image mode=RGBA size=64x64 at 0x10AAAA908>"
      ]
     },
     "metadata": {},
     "output_type": "display_data"
    },
    {
     "data": {
      "image/png": "[encoded data removed]",
      "text/plain": [
       "<PIL.PngImagePlugin.PngImageFile image mode=RGBA size=64x64 at 0x10AAC2F98>"
      ]
     },
     "metadata": {},
     "output_type": "display_data"
    },
    {
     "data": {
      "image/png": "[encoded data removed]",
      "text/plain": [
       "<PIL.PngImagePlugin.PngImageFile image mode=RGBA size=64x64 at 0x10932A390>"
      ]
     },
     "metadata": {},
     "output_type": "display_data"
    },
    {
     "data": {
      "image/png": "[encoded data removed]",
      "text/plain": [
       "<PIL.PngImagePlugin.PngImageFile image mode=RGBA size=64x64 at 0x10AAB9550>"
      ]
     },
     "metadata": {},
     "output_type": "display_data"
    },
    {
     "data": {
      "image/png": "[encoded data removed]",
      "text/plain": [
       "<PIL.PngImagePlugin.PngImageFile image mode=RGBA size=64x64 at 0x10932A390>"
      ]
     },
     "metadata": {},
     "output_type": "display_data"
    },
    {
     "data": {
      "image/png": "[encoded data removed]",
      "text/plain": [
       "<PIL.PngImagePlugin.PngImageFile image mode=RGBA size=64x64 at 0x10AAAA908>"
      ]
     },
     "metadata": {},
     "output_type": "display_data"
    },
    {
     "data": {
      "image/png": "[encoded data removed]",
      "text/plain": [
       "<PIL.PngImagePlugin.PngImageFile image mode=RGBA size=64x64 at 0x10AAB92B0>"
      ]
     },
     "metadata": {},
     "output_type": "display_data"
    },
    {
     "data": {
      "image/png": "[encoded data removed]",
      "text/plain": [
       "<PIL.PngImagePlugin.PngImageFile image mode=RGBA size=64x64 at 0x10A6EF278>"
      ]
     },
     "metadata": {},
     "output_type": "display_data"
    },
    {
     "data": {
      "image/png": "[encoded data removed]",
      "text/plain": [
       "<PIL.PngImagePlugin.PngImageFile image mode=RGBA size=64x64 at 0x10AAAA908>"
      ]
     },
     "metadata": {},
     "output_type": "display_data"
    },
    {
     "data": {
      "image/png": "[encoded data removed]",
      "text/plain": [
       "<PIL.PngImagePlugin.PngImageFile image mode=RGBA size=64x64 at 0x10AAAA828>"
      ]
     },
     "metadata": {},
     "output_type": "display_data"
    },
    {
     "data": {
      "image/png": "[encoded data removed]",
      "text/plain": [
       "<PIL.PngImagePlugin.PngImageFile image mode=RGBA size=64x64 at 0x10AAB9470>"
      ]
     },
     "metadata": {},
     "output_type": "display_data"
    },
    {
     "data": {
      "image/png": "[encoded data removed]",
      "text/plain": [
       "<PIL.PngImagePlugin.PngImageFile image mode=RGBA size=64x64 at 0x10AAC2F98>"
      ]
     },
     "metadata": {},
     "output_type": "display_data"
    },
    {
     "data": {
      "image/png": "[encoded data removed]",
      "text/plain": [
       "<PIL.PngImagePlugin.PngImageFile image mode=RGBA size=64x64 at 0x10A6EF278>"
      ]
     },
     "metadata": {},
     "output_type": "display_data"
    },
    {
     "data": {
      "image/png": "[encoded data removed]",
      "text/plain": [
       "<PIL.PngImagePlugin.PngImageFile image mode=RGBA size=64x64 at 0x10AAB92B0>"
      ]
     },
     "metadata": {},
     "output_type": "display_data"
    },
    {
     "data": {
      "image/png": "[encoded data removed]",
      "text/plain": [
       "<PIL.PngImagePlugin.PngImageFile image mode=RGBA size=64x64 at 0x10A6EF278>"
      ]
     },
     "metadata": {},
     "output_type": "display_data"
    },
    {
     "data": {
      "image/png": "[encoded data removed]",
      "text/plain": [
       "<PIL.PngImagePlugin.PngImageFile image mode=RGBA size=64x64 at 0x1074AFE48>"
      ]
     },
     "metadata": {},
     "output_type": "display_data"
    },
    {
     "data": {
      "image/png": "[encoded data removed]",
      "text/plain": [
       "<PIL.PngImagePlugin.PngImageFile image mode=RGBA size=64x64 at 0x10AAAA8D0>"
      ]
     },
     "metadata": {},
     "output_type": "display_data"
    },
    {
     "data": {
      "image/png": "[encoded data removed]",
      "text/plain": [
       "<PIL.PngImagePlugin.PngImageFile image mode=RGBA size=64x64 at 0x1074AFE48>"
      ]
     },
     "metadata": {},
     "output_type": "display_data"
    },
    {
     "data": {
      "image/png": "[encoded data removed]",
      "text/plain": [
       "<PIL.PngImagePlugin.PngImageFile image mode=RGBA size=64x64 at 0x10AAAA908>"
      ]
     },
     "metadata": {},
     "output_type": "display_data"
    },
    {
     "data": {
      "image/png": "[encoded data removed]",
      "text/plain": [
       "<PIL.PngImagePlugin.PngImageFile image mode=RGBA size=64x64 at 0x10AAAA828>"
      ]
     },
     "metadata": {},
     "output_type": "display_data"
    },
    {
     "data": {
      "image/png": "[encoded data removed]",
      "text/plain": [
       "<PIL.PngImagePlugin.PngImageFile image mode=RGBA size=64x64 at 0x10AAC2E48>"
      ]
     },
     "metadata": {},
     "output_type": "display_data"
    },
    {
     "data": {
      "image/png": "[encoded data removed]",
      "text/plain": [
       "<PIL.PngImagePlugin.PngImageFile image mode=RGBA size=64x64 at 0x10AAB9550>"
      ]
     },
     "metadata": {},
     "output_type": "display_data"
    },
    {
     "data": {
      "image/png": "[encoded data removed]",
      "text/plain": [
       "<PIL.PngImagePlugin.PngImageFile image mode=RGBA size=64x64 at 0x1068CC198>"
      ]
     },
     "metadata": {},
     "output_type": "display_data"
    },
    {
     "data": {
      "image/png": "[encoded data removed]",
      "text/plain": [
       "<PIL.PngImagePlugin.PngImageFile image mode=RGBA size=64x64 at 0x10AAC2E48>"
      ]
     },
     "metadata": {},
     "output_type": "display_data"
    },
    {
     "data": {
      "image/png": "[encoded data removed]",
      "text/plain": [
       "<PIL.PngImagePlugin.PngImageFile image mode=RGBA size=64x64 at 0x109DD7668>"
      ]
     },
     "metadata": {},
     "output_type": "display_data"
    },
    {
     "data": {
      "image/png": "[encoded data removed]",
      "text/plain": [
       "<PIL.PngImagePlugin.PngImageFile image mode=RGBA size=64x64 at 0x1091FA2B0>"
      ]
     },
     "metadata": {},
     "output_type": "display_data"
    }
   ],
   "source": [
    "from PIL import Image\n",
    "import requests\n",
    "from io import BytesIO\n",
    "for country in set(df.ath_country.tolist()):\n",
    "    if country != \"\":\n",
    "        response = requests.get(f\"https://www.countryflags.io/{country}/flat/64.png\")\n",
    "        img = Image.open(BytesIO(response.content))\n",
    "        display(img)"
   ]
  },
  {
   "cell_type": "code",
   "execution_count": null,
   "metadata": {},
   "outputs": [],
   "source": []
  }
 ],
 "metadata": {
  "kernelspec": {
   "display_name": "Python 3",
   "language": "python",
   "name": "python3"
  },
  "language_info": {
   "codemirror_mode": {
    "name": "ipython",
    "version": 3
   },
   "file_extension": ".py",
   "mimetype": "text/x-python",
   "name": "python",
   "nbconvert_exporter": "python",
   "pygments_lexer": "ipython3",
   "version": "3.6.8"
  }
 },
 "nbformat": 4,
 "nbformat_minor": 2
}
