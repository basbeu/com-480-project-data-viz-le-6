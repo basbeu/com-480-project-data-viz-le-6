{
 "cells": [
  {
   "cell_type": "markdown",
   "metadata": {},
   "source": [
    "# Assumptions (potiential problems)\n",
    " - ath_name == '' means race cancelled (checked for a few of events)\n",
    "   - correct, afaik\n",
    " - ['season', 'venue', 'event', 'date', 'gender'] identify uniquely a race\n",
    "     - we do not get the same number of races as https://en.wikipedia.org/wiki/FIS_Alpine_Ski_World_Cup\n",
    " - ['season', 'event', 'date', 'gender', 'ath_name'] is a unique index for the data frames"
   ]
  },
  {
   "cell_type": "code",
   "execution_count": 43,
   "metadata": {},
   "outputs": [],
   "source": [
    "import numpy as np\n",
    "import matplotlib.pyplot as plt \n",
    "import pandas as pd\n",
    "import seaborn as sns"
   ]
  },
  {
   "cell_type": "code",
   "execution_count": 2,
   "metadata": {},
   "outputs": [],
   "source": [
    "def parseCSV(isMale=True):\n",
    "    gender = 'm' if isMale else 'f'\n",
    "    df = pd.read_csv(f'../data/wc{gender}.csv')\n",
    "    df = df.replace(np.nan, '', regex=True)\n",
    "    df.date = pd.to_datetime(df.date, format='%Y-%m-%d')\n",
    "    df['gender'] = gender\n",
    "    return df"
   ]
  },
  {
   "cell_type": "code",
   "execution_count": 6,
   "metadata": {},
   "outputs": [],
   "source": [
    "def remove_cancelled_race(df):\n",
    "    return df[df['ath_name']!='']"
   ]
  },
  {
   "cell_type": "code",
   "execution_count": 90,
   "metadata": {},
   "outputs": [],
   "source": [
    "def number_season(df):\n",
    "    return len(df['season'].unique())\n",
    "\n",
    "def number_races(df):\n",
    "    return len(df[['season', 'venue', 'event','date', 'gender']].drop_duplicates())\n",
    "\n",
    "def number_athletes(df):\n",
    "    return len(df['ath_name'].unique())\n",
    "\n",
    "def number_country(df):\n",
    "    return len(df['ath_country'].unique())\n",
    "\n",
    "def number_races_events(df):\n",
    "    return df[['season', 'venue', 'event','date','gender']].drop_duplicates()[['venue', 'event']].groupby('event').count()\n",
    "\n",
    "def number_races_years(df):\n",
    "    return df[['season', 'venue', 'event', 'date', 'gender']].drop_duplicates()[['event','season']].groupby('season').count()\n",
    "    "
   ]
  },
  {
   "cell_type": "code",
   "execution_count": 9,
   "metadata": {},
   "outputs": [],
   "source": [
    "def show_basic_stats(df):\n",
    "    print('# seasons  :', number_season(df))\n",
    "    print('# races    :', number_races(df))\n",
    "    print('# athletes :', number_athletes(df))\n",
    "    print('# country  :', number_country(df))\n",
    "    print(number_races_events(df))"
   ]
  },
  {
   "cell_type": "code",
   "execution_count": 10,
   "metadata": {},
   "outputs": [
    {
     "name": "stdout",
     "output_type": "stream",
     "text": [
      "-----  World Cup Men -----\n",
      "# seasons  : 54\n",
      "# races    : 1798\n",
      "# athletes : 1730\n",
      "# country  : 69\n",
      "              venue\n",
      "event              \n",
      "Combined        134\n",
      "Downhill        496\n",
      "Giant Slalom    423\n",
      "Parallel         24\n",
      "Slalom          504\n",
      "Super G         217\n",
      "-----  World Cup Women -----\n",
      "# seasons  : 54\n",
      "# races    : 1680\n",
      "# athletes : 1407\n",
      "# country  : 57\n",
      "              venue\n",
      "event              \n",
      "Combined        106\n",
      "Downhill        417\n",
      "Giant Slalom    418\n",
      "Parallel         23\n",
      "Slalom          478\n",
      "Super G         238\n",
      "-----  World Cup Women -----\n",
      "# seasons  : 54\n",
      "# races    : 3478\n",
      "# athletes : 3137\n",
      "# country  : 77\n",
      "              venue\n",
      "event              \n",
      "Combined        240\n",
      "Downhill        913\n",
      "Giant Slalom    841\n",
      "Parallel         47\n",
      "Slalom          982\n",
      "Super G         455\n"
     ]
    }
   ],
   "source": [
    "dfm = remove_cancelled_race(parseCSV())\n",
    "dff = remove_cancelled_race(parseCSV(False))\n",
    "both = pd.concat([dfm, dff])\n",
    "print('-----  World Cup Men -----')\n",
    "show_basic_stats(dfm)\n",
    "\n",
    "print('-----  World Cup Women -----')\n",
    "show_basic_stats(dff)\n",
    "\n",
    "print('-----  World Cup Women -----')\n",
    "show_basic_stats(both)"
   ]
  },
  {
   "cell_type": "code",
   "execution_count": 115,
   "metadata": {},
   "outputs": [
    {
     "data": {
      "image/png": "[encoded data removed]",
      "text/plain": [
       "<Figure size 1080x360 with 1 Axes>"
      ]
     },
     "metadata": {
      "needs_background": "light"
     },
     "output_type": "display_data"
    }
   ],
   "source": [
    "fig, axes = plt.subplots(nrows=1, ncols=1, figsize=(15,5))\n",
    "axes = number_races_years(both).plot.bar(ax=axes, title='Number of races per season')\n",
    "axes.set_xlabel(\"Season\")\n",
    "axes.set_ylabel(\"Number of races\")\n",
    "fig.savefig('races_per_year.png')"
   ]
  },
  {
   "cell_type": "code",
   "execution_count": 85,
   "metadata": {},
   "outputs": [],
   "source": [
    "def number_races_events(df, year):\n",
    "    return df[df['season'] == year][['season', 'venue', 'event','date','gender']].drop_duplicates()[['venue', 'event']].groupby('event').count()"
   ]
  },
  {
   "cell_type": "code",
   "execution_count": 87,
   "metadata": {
    "jupyter": {
     "source_hidden": true
    }
   },
   "outputs": [
    {
     "ename": "NameError",
     "evalue": "name 'events' is not defined",
     "output_type": "error",
     "traceback": [
      "\u001b[0;31m---------------------------------------------------------------------------\u001b[0m",
      "\u001b[0;31mNameError\u001b[0m                                 Traceback (most recent call last)",
      "\u001b[0;32m<ipython-input-87-0aad917f83f7>\u001b[0m in \u001b[0;36m<module>\u001b[0;34m\u001b[0m\n\u001b[1;32m      1\u001b[0m \u001b[0;32mfor\u001b[0m \u001b[0mseason\u001b[0m \u001b[0;32min\u001b[0m \u001b[0mrange\u001b[0m\u001b[0;34m(\u001b[0m\u001b[0;36m1966\u001b[0m\u001b[0;34m,\u001b[0m \u001b[0;36m2021\u001b[0m\u001b[0;34m)\u001b[0m\u001b[0;34m:\u001b[0m\u001b[0;34m\u001b[0m\u001b[0;34m\u001b[0m\u001b[0m\n\u001b[0;32m----> 2\u001b[0;31m     \u001b[0mevents\u001b[0m \u001b[0;34m+=\u001b[0m \u001b[0mnumber_races_events\u001b[0m\u001b[0;34m(\u001b[0m\u001b[0mboth\u001b[0m\u001b[0;34m,\u001b[0m \u001b[0;36m2019\u001b[0m\u001b[0;34m)\u001b[0m\u001b[0;34m\u001b[0m\u001b[0;34m\u001b[0m\u001b[0m\n\u001b[0m",
      "\u001b[0;31mNameError\u001b[0m: name 'events' is not defined"
     ]
    }
   ],
   "source": [
    "e\n",
    "for season in range(1966, 2021):\n",
    "    events += number_races_events(both, 2019)"
   ]
  },
  {
   "cell_type": "code",
   "execution_count": 133,
   "metadata": {},
   "outputs": [],
   "source": [
    "events = pd.DataFrame(columns=['Downhill','Super G','Giant Slalom','Slalom','Combined','Parallel','decade'])\n",
    "decades = [\"70's\", \"80's\", \"90's\", \"00's\", \"10's\"]\n",
    "\n",
    "start = 1970 \n",
    "end = 1980\n",
    "i = 0\n",
    "while(end < 2021):\n",
    "    e = number_races_events(both[(both['season'] >= start) &(both['season'] < end)])\n",
    "    e = e.transpose().reset_index().drop('index', axis=1)\n",
    "    e['decade'] = decades[i]\n",
    "    e.set_index('decade')\n",
    "    events = pd.concat([events, e])\n",
    "    start +=10\n",
    "    end +=10\n",
    "    i+=1\n",
    "events = events.set_index('decade')"
   ]
  },
  {
   "cell_type": "code",
   "execution_count": 134,
   "metadata": {},
   "outputs": [
    {
     "data": {
      "text/html": [
       "<div>\n",
       "<style scoped>\n",
       "    .dataframe tbody tr th:only-of-type {\n",
       "        vertical-align: middle;\n",
       "    }\n",
       "\n",
       "    .dataframe tbody tr th {\n",
       "        vertical-align: top;\n",
       "    }\n",
       "\n",
       "    .dataframe thead th {\n",
       "        text-align: right;\n",
       "    }\n",
       "</style>\n",
       "<table border=\"1\" class=\"dataframe\">\n",
       "  <thead>\n",
       "    <tr style=\"text-align: right;\">\n",
       "      <th></th>\n",
       "      <th>Downhill</th>\n",
       "      <th>Super G</th>\n",
       "      <th>Giant Slalom</th>\n",
       "      <th>Slalom</th>\n",
       "      <th>Combined</th>\n",
       "      <th>Parallel</th>\n",
       "    </tr>\n",
       "    <tr>\n",
       "      <th>decade</th>\n",
       "      <th></th>\n",
       "      <th></th>\n",
       "      <th></th>\n",
       "      <th></th>\n",
       "      <th></th>\n",
       "      <th></th>\n",
       "    </tr>\n",
       "  </thead>\n",
       "  <tbody>\n",
       "    <tr>\n",
       "      <th>70's</th>\n",
       "      <td>147</td>\n",
       "      <td>NaN</td>\n",
       "      <td>158</td>\n",
       "      <td>163</td>\n",
       "      <td>26</td>\n",
       "      <td>9</td>\n",
       "    </tr>\n",
       "    <tr>\n",
       "      <th>80's</th>\n",
       "      <td>184</td>\n",
       "      <td>56</td>\n",
       "      <td>152</td>\n",
       "      <td>187</td>\n",
       "      <td>80</td>\n",
       "      <td>21</td>\n",
       "    </tr>\n",
       "    <tr>\n",
       "      <th>90's</th>\n",
       "      <td>178</td>\n",
       "      <td>119</td>\n",
       "      <td>153</td>\n",
       "      <td>175</td>\n",
       "      <td>38</td>\n",
       "      <td>5</td>\n",
       "    </tr>\n",
       "    <tr>\n",
       "      <th>00's</th>\n",
       "      <td>185</td>\n",
       "      <td>135</td>\n",
       "      <td>163</td>\n",
       "      <td>191</td>\n",
       "      <td>44</td>\n",
       "      <td>NaN</td>\n",
       "    </tr>\n",
       "    <tr>\n",
       "      <th>10's</th>\n",
       "      <td>172</td>\n",
       "      <td>133</td>\n",
       "      <td>163</td>\n",
       "      <td>201</td>\n",
       "      <td>47</td>\n",
       "      <td>8</td>\n",
       "    </tr>\n",
       "  </tbody>\n",
       "</table>\n",
       "</div>"
      ],
      "text/plain": [
       "       Downhill Super G Giant Slalom Slalom Combined Parallel\n",
       "decade                                                       \n",
       "70's        147     NaN          158    163       26        9\n",
       "80's        184      56          152    187       80       21\n",
       "90's        178     119          153    175       38        5\n",
       "00's        185     135          163    191       44      NaN\n",
       "10's        172     133          163    201       47        8"
      ]
     },
     "execution_count": 134,
     "metadata": {},
     "output_type": "execute_result"
    }
   ],
   "source": [
    "events"
   ]
  },
  {
   "cell_type": "code",
   "execution_count": 151,
   "metadata": {},
   "outputs": [
    {
     "data": {
      "image/png": "[encoded data removed]",
      "text/plain": [
       "<Figure size 1080x360 with 1 Axes>"
      ]
     },
     "metadata": {
      "needs_background": "light"
     },
     "output_type": "display_data"
    }
   ],
   "source": [
    "\n",
    "fig, axes = plt.subplots(nrows=1, ncols=1, figsize=(15,5))\n",
    "axes = events.plot.bar(ax=axes, title='Number of events per year',rot=0)\n",
    "axes.legend(loc=\"center right\",bbox_to_anchor=(1.15, 0.5))\n",
    "axes.set_xlabel(\"Decades\")\n",
    "axes.set_ylabel(\"Number of events\")\n",
    "\n",
    "fig.savefig('events_per_decades.png')"
   ]
  },
  {
   "cell_type": "markdown",
   "metadata": {},
   "source": [
    "## Corrections\n",
    "\n",
    "Attention: after parsing, WCM has 2 Kitzbüehl Downhill races on the 1995-01-14. One of them was on the 1995-01-13. Corrected manually **only in the CSV** file."
   ]
  },
  {
   "cell_type": "code",
   "execution_count": 25,
   "metadata": {},
   "outputs": [
    {
     "data": {
      "text/plain": [
       "True"
      ]
     },
     "execution_count": 25,
     "metadata": {},
     "output_type": "execute_result"
    }
   ],
   "source": [
    "dfm_indexed = dfm.set_index(['season', 'date', 'venue', 'country', 'event', 'ath_name'])\n",
    "dfm_indexed.index.is_unique#.value_counts().head(30)"
   ]
  },
  {
   "cell_type": "code",
   "execution_count": 26,
   "metadata": {},
   "outputs": [
    {
     "data": {
      "text/plain": [
       "True"
      ]
     },
     "execution_count": 26,
     "metadata": {},
     "output_type": "execute_result"
    }
   ],
   "source": [
    "dff_indexed = dff.set_index(['season', 'date', 'venue', 'country', 'event', 'ath_name'])\n",
    "dff_indexed.index.is_unique#.value_counts().head(30)"
   ]
  }
 ],
 "metadata": {
  "kernelspec": {
   "display_name": "Python 3",
   "language": "python",
   "name": "python3"
  },
  "language_info": {
   "codemirror_mode": {
    "name": "ipython",
    "version": 3
   },
   "file_extension": ".py",
   "mimetype": "text/x-python",
   "name": "python",
   "nbconvert_exporter": "python",
   "pygments_lexer": "ipython3",
   "version": "3.7.3"
  }
 },
 "nbformat": 4,
 "nbformat_minor": 4
}
