{
 "cells": [
  {
   "cell_type": "markdown",
   "metadata": {},
   "source": [
    "# Assumptions (potiential problems)\n",
    " - ath_name == '' means race cancelled (checked for a few of events)\n",
    "   - correct, afaik\n",
    " - ['season', 'venue', 'event', 'date', 'gender'] identify uniquely a race\n",
    "     - we do not get the same number of races as https://en.wikipedia.org/wiki/FIS_Alpine_Ski_World_Cup\n",
    " - ['season', 'event', 'date', 'gender', 'ath_name'] is a unique index for the data frames"
   ]
  },
  {
   "cell_type": "code",
   "execution_count": 43,
   "metadata": {},
   "outputs": [],
   "source": [
    "import numpy as np\n",
    "import matplotlib.pyplot as plt \n",
    "import pandas as pd\n",
    "import seaborn as sns"
   ]
  },
  {
   "cell_type": "code",
   "execution_count": 2,
   "metadata": {},
   "outputs": [],
   "source": [
    "def parseCSV(isMale=True):\n",
    "    gender = 'm' if isMale else 'f'\n",
    "    df = pd.read_csv(f'../data/wc{gender}.csv')\n",
    "    df = df.replace(np.nan, '', regex=True)\n",
    "    df.date = pd.to_datetime(df.date, format='%Y-%m-%d')\n",
    "    df['gender'] = gender\n",
    "    return df"
   ]
  },
  {
   "cell_type": "code",
   "execution_count": 6,
   "metadata": {},
   "outputs": [],
   "source": [
    "def remove_cancelled_race(df):\n",
    "    return df[df['ath_name']!='']"
   ]
  },
  {
   "cell_type": "code",
   "execution_count": 28,
   "metadata": {},
   "outputs": [],
   "source": [
    "def number_season(df):\n",
    "    return len(df['season'].unique())\n",
    "\n",
    "def number_races(df):\n",
    "    return len(df[['season', 'venue', 'event','date', 'gender']].drop_duplicates())\n",
    "\n",
    "def number_athletes(df):\n",
    "    return len(df['ath_name'].unique())\n",
    "\n",
    "def number_country(df):\n",
    "    return len(df['ath_country'].unique())\n",
    "\n",
    "def number_races_events(df):\n",
    "    return df[['season', 'venue', 'event','date','gender']].drop_duplicates()[['venue', 'event']].groupby('event').count()\n",
    "\n",
    "def number_races_years(df):\n",
    "    return df[['season', 'venue', 'event', 'date', 'gender']].drop_duplicates()[['event','season']].groupby('season').count()\n",
    "    "
   ]
  },
  {
   "cell_type": "code",
   "execution_count": 9,
   "metadata": {},
   "outputs": [],
   "source": [
    "def show_basic_stats(df):\n",
    "    print('# seasons  :', number_season(df))\n",
    "    print('# races    :', number_races(df))\n",
    "    print('# athletes :', number_athletes(df))\n",
    "    print('# country  :', number_country(df))\n",
    "    print(number_races_events(df))"
   ]
  },
  {
   "cell_type": "code",
   "execution_count": 10,
   "metadata": {},
   "outputs": [
    {
     "name": "stdout",
     "output_type": "stream",
     "text": [
      "-----  World Cup Men -----\n",
      "# seasons  : 54\n",
      "# races    : 1798\n",
      "# athletes : 1730\n",
      "# country  : 69\n",
      "              venue\n",
      "event              \n",
      "Combined        134\n",
      "Downhill        496\n",
      "Giant Slalom    423\n",
      "Parallel         24\n",
      "Slalom          504\n",
      "Super G         217\n",
      "-----  World Cup Women -----\n",
      "# seasons  : 54\n",
      "# races    : 1680\n",
      "# athletes : 1407\n",
      "# country  : 57\n",
      "              venue\n",
      "event              \n",
      "Combined        106\n",
      "Downhill        417\n",
      "Giant Slalom    418\n",
      "Parallel         23\n",
      "Slalom          478\n",
      "Super G         238\n",
      "-----  World Cup Women -----\n",
      "# seasons  : 54\n",
      "# races    : 3478\n",
      "# athletes : 3137\n",
      "# country  : 77\n",
      "              venue\n",
      "event              \n",
      "Combined        240\n",
      "Downhill        913\n",
      "Giant Slalom    841\n",
      "Parallel         47\n",
      "Slalom          982\n",
      "Super G         455\n"
     ]
    }
   ],
   "source": [
    "dfm = remove_cancelled_race(parseCSV())\n",
    "dff = remove_cancelled_race(parseCSV(False))\n",
    "both = pd.concat([dfm, dff])\n",
    "print('-----  World Cup Men -----')\n",
    "show_basic_stats(dfm)\n",
    "\n",
    "print('-----  World Cup Women -----')\n",
    "show_basic_stats(dff)\n",
    "\n",
    "print('-----  World Cup Women -----')\n",
    "show_basic_stats(both)"
   ]
  },
  {
   "cell_type": "code",
   "execution_count": 66,
   "metadata": {},
   "outputs": [
    {
     "data": {
      "image/png": "[encoded data removed]",
      "text/plain": [
       "<Figure size 1080x360 with 1 Axes>"
      ]
     },
     "metadata": {
      "needs_background": "light"
     },
     "output_type": "display_data"
    }
   ],
   "source": [
    "fig, axes = plt.subplots(nrows=1, ncols=1, figsize=(15,5))\n",
    "axes = number_races_years(both).plot.bar(ax=axes, title='Number of races per season')\n",
    "axes.set_xlabel(\"Season\")\n",
    "axes.set_ylabel(\"Number of races\")\n",
    "fig.savefig('races_per_year.png')"
   ]
  },
  {
   "cell_type": "markdown",
   "metadata": {},
   "source": [
    "## Corrections\n",
    "\n",
    "Attention: after parsing, WCM has 2 Kitzbüehl Downhill races on the 1995-01-14. One of them was on the 1995-01-13. Corrected manually **only in the CSV** file."
   ]
  },
  {
   "cell_type": "code",
   "execution_count": 25,
   "metadata": {},
   "outputs": [
    {
     "data": {
      "text/plain": [
       "True"
      ]
     },
     "execution_count": 25,
     "metadata": {},
     "output_type": "execute_result"
    }
   ],
   "source": [
    "dfm_indexed = dfm.set_index(['season', 'date', 'venue', 'country', 'event', 'ath_name'])\n",
    "dfm_indexed.index.is_unique#.value_counts().head(30)"
   ]
  },
  {
   "cell_type": "code",
   "execution_count": 26,
   "metadata": {},
   "outputs": [
    {
     "data": {
      "text/plain": [
       "True"
      ]
     },
     "execution_count": 26,
     "metadata": {},
     "output_type": "execute_result"
    }
   ],
   "source": [
    "dff_indexed = dff.set_index(['season', 'date', 'venue', 'country', 'event', 'ath_name'])\n",
    "dff_indexed.index.is_unique#.value_counts().head(30)"
   ]
  }
 ],
 "metadata": {
  "kernelspec": {
   "display_name": "Python 3",
   "language": "python",
   "name": "python3"
  },
  "language_info": {
   "codemirror_mode": {
    "name": "ipython",
    "version": 3
   },
   "file_extension": ".py",
   "mimetype": "text/x-python",
   "name": "python",
   "nbconvert_exporter": "python",
   "pygments_lexer": "ipython3",
   "version": "3.7.3"
  }
 },
 "nbformat": 4,
 "nbformat_minor": 4
}
