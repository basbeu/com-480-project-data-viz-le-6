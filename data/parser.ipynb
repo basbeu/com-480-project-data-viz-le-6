{
 "cells": [
  {
   "cell_type": "code",
   "execution_count": 12,
   "metadata": {},
   "outputs": [],
   "source": [
    "import pandas as pd\n",
    "import numpy as np\n",
    "from iso3166 import countries"
   ]
  },
  {
   "cell_type": "code",
   "execution_count": 27,
   "metadata": {},
   "outputs": [],
   "source": [
    "wf = \"wcf\""
   ]
  },
  {
   "cell_type": "code",
   "execution_count": 28,
   "metadata": {
    "scrolled": true
   },
   "outputs": [],
   "source": [
    "df = pd.read_csv(f'{wf}.csv') \n",
    "df_rank = pd.read_csv('points.csv')#, index_col=0) "
   ]
  },
  {
   "cell_type": "code",
   "execution_count": 29,
   "metadata": {},
   "outputs": [],
   "source": [
    "country_translation = {\n",
    "    \"MON\": \"MCO\",\n",
    "    \"MAD\": \"MDG\",\n",
    "    \"CRO\": \"HRV\",\n",
    "    \"BUL\": \"BGR\",\n",
    "    \"ZIM\": \"ZWE\",\n",
    "    \"CKS\": \"SVK\",\n",
    "    \"DAN\": \"DNK\",\n",
    "    \"KOS\": \"XKX\",\n",
    "    \"URS\": \"RUS\",\n",
    "    \"GRE\": \"GRC\",\n",
    "    \"CHI\": \"CHL\",\n",
    "    \"SUI\": \"CHE\",\n",
    "    \"NED\": \"NLD\",\n",
    "    \"IRA\": \"IRN\",\n",
    "    \"LIB\": \"LBN\",\n",
    "    \"SLO\": \"SVK\",\n",
    "    \"LAT\": \"LVA\",\n",
    "    \"GER\": \"DEU\",\n",
    "    \"JUG\": \"SRB\",\n",
    "    \"IRE\": \"IRL\",\n",
    "    \"RSA\": \"ZAF\",\n",
    "    \"SPA\": \"ESP\",\n",
    "}"
   ]
  },
  {
   "cell_type": "code",
   "execution_count": 30,
   "metadata": {},
   "outputs": [],
   "source": [
    "def get_alpha2_country(alpha3_name):\n",
    "    return getattr(countries.get(country_translation.get(alpha3_name, alpha3_name), alpha3_name), \"alpha2\", \"\")\n",
    "df.ath_country = df.ath_country.apply(get_alpha2_country)"
   ]
  },
  {
   "cell_type": "code",
   "execution_count": 31,
   "metadata": {},
   "outputs": [],
   "source": [
    "for year in range(1966, 2021):\n",
    "\n",
    "    df2020 = df[df[\"season\"] == year]\n",
    "    df2020 = df2020.dropna()\n",
    "\n",
    "    df2020[\"ath_rank\"]=df2020[\"ath_rank\"].apply(lambda x: np.where(x.isdigit(),x,'0')).astype(int)\n",
    "\n",
    "    events = df2020[[\"season\", \"date\", \"venue\", \"country\", \"event\"]].drop_duplicates().reset_index(drop=\"True\")\n",
    "    events[\"key\"] = 0\n",
    "    skiers = df2020[[\"ath_name\", \"ath_country\", \"ath_id\"]].drop_duplicates().reset_index(drop=\"True\")\n",
    "    skiers[\"key\"] = 0\n",
    "\n",
    "    cart_prod = events.merge(skiers, how='outer')\n",
    "\n",
    "    df2020 = pd.merge(cart_prod, df2020,  how='left', left_on=[\"season\", \"date\", \"venue\", \"country\", \"event\", \"ath_name\", \"ath_country\", \"ath_id\"], right_on = [\"season\", \"date\", \"venue\", \"country\", \"event\", \"ath_name\", \"ath_country\", \"ath_id\"])\n",
    "    df2020 = df2020.fillna(0, downcast='infer')\n",
    "    df_total = pd.merge(df2020, df_rank, on=\"ath_rank\").sort_values(by=['date'])\n",
    "    df_total[\"value\"] = df_total.groupby(['ath_name'])[\"points\"].cumsum()\n",
    "    df_total.rename(columns={\"ath_name\": \"name\"})[[\"date\", \"name\", \"ath_country\", \"value\"]].to_csv(f\"{wf}_ranking_{year}.csv\", index=False,)"
   ]
  },
  {
   "cell_type": "code",
   "execution_count": 7,
   "metadata": {},
   "outputs": [],
   "source": []
  },
  {
   "cell_type": "code",
   "execution_count": 8,
   "metadata": {},
   "outputs": [],
   "source": []
  },
  {
   "cell_type": "code",
   "execution_count": 9,
   "metadata": {},
   "outputs": [
    {
     "data": {
      "text/html": [
       "<div>\n",
       "<style scoped>\n",
       "    .dataframe tbody tr th:only-of-type {\n",
       "        vertical-align: middle;\n",
       "    }\n",
       "\n",
       "    .dataframe tbody tr th {\n",
       "        vertical-align: top;\n",
       "    }\n",
       "\n",
       "    .dataframe thead th {\n",
       "        text-align: right;\n",
       "    }\n",
       "</style>\n",
       "<table border=\"1\" class=\"dataframe\">\n",
       "  <thead>\n",
       "    <tr style=\"text-align: right;\">\n",
       "      <th></th>\n",
       "      <th>season</th>\n",
       "      <th>date</th>\n",
       "      <th>venue</th>\n",
       "      <th>country</th>\n",
       "      <th>event</th>\n",
       "      <th>key</th>\n",
       "      <th>ath_name</th>\n",
       "      <th>ath_country</th>\n",
       "      <th>ath_id</th>\n",
       "      <th>ath_rank</th>\n",
       "      <th>ath_time_run_1</th>\n",
       "      <th>ath_time_run_2</th>\n",
       "      <th>ath_time</th>\n",
       "      <th>ath_time_diff</th>\n",
       "      <th>ath_ski</th>\n",
       "      <th>points</th>\n",
       "      <th>value</th>\n",
       "    </tr>\n",
       "  </thead>\n",
       "  <tbody>\n",
       "    <tr>\n",
       "      <th>0</th>\n",
       "      <td>2020</td>\n",
       "      <td>2019-10-27</td>\n",
       "      <td>Soelden</td>\n",
       "      <td>AUT</td>\n",
       "      <td>Giant Slalom</td>\n",
       "      <td>0</td>\n",
       "      <td>Alexis Pinturault</td>\n",
       "      <td>FR</td>\n",
       "      <td>alexis_pinturault_fra_194364</td>\n",
       "      <td>1</td>\n",
       "      <td>6710</td>\n",
       "      <td>6704</td>\n",
       "      <td>13414</td>\n",
       "      <td>0</td>\n",
       "      <td>Head</td>\n",
       "      <td>100</td>\n",
       "      <td>100</td>\n",
       "    </tr>\n",
       "    <tr>\n",
       "      <th>1118</th>\n",
       "      <td>2020</td>\n",
       "      <td>2019-11-24</td>\n",
       "      <td>Levi</td>\n",
       "      <td>FIN</td>\n",
       "      <td>Slalom</td>\n",
       "      <td>0</td>\n",
       "      <td>Alexis Pinturault</td>\n",
       "      <td>FR</td>\n",
       "      <td>alexis_pinturault_fra_194364</td>\n",
       "      <td>0</td>\n",
       "      <td>0</td>\n",
       "      <td>0</td>\n",
       "      <td>0</td>\n",
       "      <td>0</td>\n",
       "      <td>0</td>\n",
       "      <td>0</td>\n",
       "      <td>100</td>\n",
       "    </tr>\n",
       "    <tr>\n",
       "      <th>1250</th>\n",
       "      <td>2020</td>\n",
       "      <td>2019-11-30</td>\n",
       "      <td>Lake Louise</td>\n",
       "      <td>CAN</td>\n",
       "      <td>Downhill</td>\n",
       "      <td>0</td>\n",
       "      <td>Alexis Pinturault</td>\n",
       "      <td>FR</td>\n",
       "      <td>alexis_pinturault_fra_194364</td>\n",
       "      <td>0</td>\n",
       "      <td>0</td>\n",
       "      <td>0</td>\n",
       "      <td>0</td>\n",
       "      <td>0</td>\n",
       "      <td>0</td>\n",
       "      <td>0</td>\n",
       "      <td>100</td>\n",
       "    </tr>\n",
       "    <tr>\n",
       "      <th>1378</th>\n",
       "      <td>2020</td>\n",
       "      <td>2019-12-01</td>\n",
       "      <td>Lake Louise</td>\n",
       "      <td>CAN</td>\n",
       "      <td>Super G</td>\n",
       "      <td>0</td>\n",
       "      <td>Alexis Pinturault</td>\n",
       "      <td>FR</td>\n",
       "      <td>alexis_pinturault_fra_194364</td>\n",
       "      <td>0</td>\n",
       "      <td>0</td>\n",
       "      <td>0</td>\n",
       "      <td>0</td>\n",
       "      <td>0</td>\n",
       "      <td>0</td>\n",
       "      <td>0</td>\n",
       "      <td>100</td>\n",
       "    </tr>\n",
       "    <tr>\n",
       "      <th>113</th>\n",
       "      <td>2020</td>\n",
       "      <td>2019-12-06</td>\n",
       "      <td>Beaver Creek</td>\n",
       "      <td>USA</td>\n",
       "      <td>Super G</td>\n",
       "      <td>0</td>\n",
       "      <td>Alexis Pinturault</td>\n",
       "      <td>FR</td>\n",
       "      <td>alexis_pinturault_fra_194364</td>\n",
       "      <td>4</td>\n",
       "      <td>0</td>\n",
       "      <td>0</td>\n",
       "      <td>7127</td>\n",
       "      <td>37</td>\n",
       "      <td>Head</td>\n",
       "      <td>50</td>\n",
       "      <td>150</td>\n",
       "    </tr>\n",
       "    <tr>\n",
       "      <th>1638</th>\n",
       "      <td>2020</td>\n",
       "      <td>2019-12-07</td>\n",
       "      <td>Beaver Creek</td>\n",
       "      <td>USA</td>\n",
       "      <td>Downhill</td>\n",
       "      <td>0</td>\n",
       "      <td>Alexis Pinturault</td>\n",
       "      <td>FR</td>\n",
       "      <td>alexis_pinturault_fra_194364</td>\n",
       "      <td>0</td>\n",
       "      <td>0</td>\n",
       "      <td>0</td>\n",
       "      <td>0</td>\n",
       "      <td>0</td>\n",
       "      <td>0</td>\n",
       "      <td>0</td>\n",
       "      <td>150</td>\n",
       "    </tr>\n",
       "    <tr>\n",
       "      <th>589</th>\n",
       "      <td>2020</td>\n",
       "      <td>2019-12-08</td>\n",
       "      <td>Beaver Creek</td>\n",
       "      <td>USA</td>\n",
       "      <td>Giant Slalom</td>\n",
       "      <td>0</td>\n",
       "      <td>Alexis Pinturault</td>\n",
       "      <td>FR</td>\n",
       "      <td>alexis_pinturault_fra_194364</td>\n",
       "      <td>17</td>\n",
       "      <td>7836</td>\n",
       "      <td>7654</td>\n",
       "      <td>15490</td>\n",
       "      <td>365</td>\n",
       "      <td>Head</td>\n",
       "      <td>14</td>\n",
       "      <td>164</td>\n",
       "    </tr>\n",
       "    <tr>\n",
       "      <th>7</th>\n",
       "      <td>2020</td>\n",
       "      <td>2019-12-15</td>\n",
       "      <td>Val d'Isere</td>\n",
       "      <td>FRA</td>\n",
       "      <td>Slalom</td>\n",
       "      <td>0</td>\n",
       "      <td>Alexis Pinturault</td>\n",
       "      <td>FR</td>\n",
       "      <td>alexis_pinturault_fra_194364</td>\n",
       "      <td>1</td>\n",
       "      <td>5285</td>\n",
       "      <td>5506</td>\n",
       "      <td>10791</td>\n",
       "      <td>0</td>\n",
       "      <td>Head</td>\n",
       "      <td>100</td>\n",
       "      <td>264</td>\n",
       "    </tr>\n",
       "    <tr>\n",
       "      <th>2033</th>\n",
       "      <td>2020</td>\n",
       "      <td>2019-12-20</td>\n",
       "      <td>Gardena</td>\n",
       "      <td>ITA</td>\n",
       "      <td>Super G</td>\n",
       "      <td>0</td>\n",
       "      <td>Alexis Pinturault</td>\n",
       "      <td>FR</td>\n",
       "      <td>alexis_pinturault_fra_194364</td>\n",
       "      <td>0</td>\n",
       "      <td>0</td>\n",
       "      <td>0</td>\n",
       "      <td>0</td>\n",
       "      <td>0</td>\n",
       "      <td>0</td>\n",
       "      <td>0</td>\n",
       "      <td>264</td>\n",
       "    </tr>\n",
       "    <tr>\n",
       "      <th>263</th>\n",
       "      <td>2020</td>\n",
       "      <td>2019-12-22</td>\n",
       "      <td>Alta Badia</td>\n",
       "      <td>ITA</td>\n",
       "      <td>Giant Slalom</td>\n",
       "      <td>0</td>\n",
       "      <td>Alexis Pinturault</td>\n",
       "      <td>FR</td>\n",
       "      <td>alexis_pinturault_fra_194364</td>\n",
       "      <td>8</td>\n",
       "      <td>5889</td>\n",
       "      <td>5936</td>\n",
       "      <td>11825</td>\n",
       "      <td>92</td>\n",
       "      <td>Head</td>\n",
       "      <td>32</td>\n",
       "      <td>296</td>\n",
       "    </tr>\n",
       "    <tr>\n",
       "      <th>903</th>\n",
       "      <td>2020</td>\n",
       "      <td>2019-12-23</td>\n",
       "      <td>Alta Badia</td>\n",
       "      <td>ITA</td>\n",
       "      <td>Parallel</td>\n",
       "      <td>0</td>\n",
       "      <td>Alexis Pinturault</td>\n",
       "      <td>FR</td>\n",
       "      <td>alexis_pinturault_fra_194364</td>\n",
       "      <td>26</td>\n",
       "      <td>0</td>\n",
       "      <td>0</td>\n",
       "      <td>6260</td>\n",
       "      <td>250</td>\n",
       "      <td>Head</td>\n",
       "      <td>5</td>\n",
       "      <td>301</td>\n",
       "    </tr>\n",
       "    <tr>\n",
       "      <th>2423</th>\n",
       "      <td>2020</td>\n",
       "      <td>2019-12-27</td>\n",
       "      <td>Bormio</td>\n",
       "      <td>ITA</td>\n",
       "      <td>Downhill</td>\n",
       "      <td>0</td>\n",
       "      <td>Alexis Pinturault</td>\n",
       "      <td>FR</td>\n",
       "      <td>alexis_pinturault_fra_194364</td>\n",
       "      <td>0</td>\n",
       "      <td>0</td>\n",
       "      <td>0</td>\n",
       "      <td>0</td>\n",
       "      <td>0</td>\n",
       "      <td>0</td>\n",
       "      <td>0</td>\n",
       "      <td>301</td>\n",
       "    </tr>\n",
       "    <tr>\n",
       "      <th>2553</th>\n",
       "      <td>2020</td>\n",
       "      <td>2019-12-28</td>\n",
       "      <td>Bormio</td>\n",
       "      <td>ITA</td>\n",
       "      <td>Downhill</td>\n",
       "      <td>0</td>\n",
       "      <td>Alexis Pinturault</td>\n",
       "      <td>FR</td>\n",
       "      <td>alexis_pinturault_fra_194364</td>\n",
       "      <td>0</td>\n",
       "      <td>0</td>\n",
       "      <td>0</td>\n",
       "      <td>0</td>\n",
       "      <td>0</td>\n",
       "      <td>0</td>\n",
       "      <td>0</td>\n",
       "      <td>301</td>\n",
       "    </tr>\n",
       "    <tr>\n",
       "      <th>13</th>\n",
       "      <td>2020</td>\n",
       "      <td>2019-12-29</td>\n",
       "      <td>Bormio</td>\n",
       "      <td>ITA</td>\n",
       "      <td>Combined</td>\n",
       "      <td>0</td>\n",
       "      <td>Alexis Pinturault</td>\n",
       "      <td>FR</td>\n",
       "      <td>alexis_pinturault_fra_194364</td>\n",
       "      <td>1</td>\n",
       "      <td>0</td>\n",
       "      <td>0</td>\n",
       "      <td>15256</td>\n",
       "      <td>0</td>\n",
       "      <td>Head</td>\n",
       "      <td>100</td>\n",
       "      <td>401</td>\n",
       "    </tr>\n",
       "    <tr>\n",
       "      <th>304</th>\n",
       "      <td>2020</td>\n",
       "      <td>2020-01-05</td>\n",
       "      <td>Zagreb</td>\n",
       "      <td>CRO</td>\n",
       "      <td>Slalom</td>\n",
       "      <td>0</td>\n",
       "      <td>Alexis Pinturault</td>\n",
       "      <td>FR</td>\n",
       "      <td>alexis_pinturault_fra_194364</td>\n",
       "      <td>9</td>\n",
       "      <td>5861</td>\n",
       "      <td>5950</td>\n",
       "      <td>11811</td>\n",
       "      <td>97</td>\n",
       "      <td>Head</td>\n",
       "      <td>29</td>\n",
       "      <td>430</td>\n",
       "    </tr>\n",
       "    <tr>\n",
       "      <th>160</th>\n",
       "      <td>2020</td>\n",
       "      <td>2020-01-08</td>\n",
       "      <td>Campiglio</td>\n",
       "      <td>ITA</td>\n",
       "      <td>Slalom</td>\n",
       "      <td>0</td>\n",
       "      <td>Alexis Pinturault</td>\n",
       "      <td>FR</td>\n",
       "      <td>alexis_pinturault_fra_194364</td>\n",
       "      <td>5</td>\n",
       "      <td>4847</td>\n",
       "      <td>4773</td>\n",
       "      <td>9620</td>\n",
       "      <td>60</td>\n",
       "      <td>Head</td>\n",
       "      <td>45</td>\n",
       "      <td>475</td>\n",
       "    </tr>\n",
       "    <tr>\n",
       "      <th>343</th>\n",
       "      <td>2020</td>\n",
       "      <td>2020-01-11</td>\n",
       "      <td>Adelboden</td>\n",
       "      <td>SUI</td>\n",
       "      <td>Giant Slalom</td>\n",
       "      <td>0</td>\n",
       "      <td>Alexis Pinturault</td>\n",
       "      <td>FR</td>\n",
       "      <td>alexis_pinturault_fra_194364</td>\n",
       "      <td>10</td>\n",
       "      <td>7276</td>\n",
       "      <td>7635</td>\n",
       "      <td>14911</td>\n",
       "      <td>121</td>\n",
       "      <td>Head</td>\n",
       "      <td>26</td>\n",
       "      <td>501</td>\n",
       "    </tr>\n",
       "    <tr>\n",
       "      <th>271</th>\n",
       "      <td>2020</td>\n",
       "      <td>2020-01-12</td>\n",
       "      <td>Adelboden</td>\n",
       "      <td>SUI</td>\n",
       "      <td>Slalom</td>\n",
       "      <td>0</td>\n",
       "      <td>Alexis Pinturault</td>\n",
       "      <td>FR</td>\n",
       "      <td>alexis_pinturault_fra_194364</td>\n",
       "      <td>8</td>\n",
       "      <td>5403</td>\n",
       "      <td>5529</td>\n",
       "      <td>10932</td>\n",
       "      <td>59</td>\n",
       "      <td>Head</td>\n",
       "      <td>32</td>\n",
       "      <td>533</td>\n",
       "    </tr>\n",
       "    <tr>\n",
       "      <th>55</th>\n",
       "      <td>2020</td>\n",
       "      <td>2020-01-17</td>\n",
       "      <td>Wengen</td>\n",
       "      <td>SUI</td>\n",
       "      <td>Combined</td>\n",
       "      <td>0</td>\n",
       "      <td>Alexis Pinturault</td>\n",
       "      <td>FR</td>\n",
       "      <td>alexis_pinturault_fra_194364</td>\n",
       "      <td>2</td>\n",
       "      <td>0</td>\n",
       "      <td>0</td>\n",
       "      <td>15252</td>\n",
       "      <td>7</td>\n",
       "      <td>Head</td>\n",
       "      <td>80</td>\n",
       "      <td>613</td>\n",
       "    </tr>\n",
       "    <tr>\n",
       "      <th>3477</th>\n",
       "      <td>2020</td>\n",
       "      <td>2020-01-18</td>\n",
       "      <td>Wengen</td>\n",
       "      <td>SUI</td>\n",
       "      <td>Downhill</td>\n",
       "      <td>0</td>\n",
       "      <td>Alexis Pinturault</td>\n",
       "      <td>FR</td>\n",
       "      <td>alexis_pinturault_fra_194364</td>\n",
       "      <td>0</td>\n",
       "      <td>0</td>\n",
       "      <td>0</td>\n",
       "      <td>0</td>\n",
       "      <td>0</td>\n",
       "      <td>0</td>\n",
       "      <td>0</td>\n",
       "      <td>613</td>\n",
       "    </tr>\n",
       "    <tr>\n",
       "      <th>3607</th>\n",
       "      <td>2020</td>\n",
       "      <td>2020-01-19</td>\n",
       "      <td>Wengen</td>\n",
       "      <td>SUI</td>\n",
       "      <td>Slalom</td>\n",
       "      <td>0</td>\n",
       "      <td>Alexis Pinturault</td>\n",
       "      <td>FR</td>\n",
       "      <td>alexis_pinturault_fra_194364</td>\n",
       "      <td>0</td>\n",
       "      <td>0</td>\n",
       "      <td>0</td>\n",
       "      <td>0</td>\n",
       "      <td>0</td>\n",
       "      <td>0</td>\n",
       "      <td>0</td>\n",
       "      <td>613</td>\n",
       "    </tr>\n",
       "    <tr>\n",
       "      <th>310</th>\n",
       "      <td>2020</td>\n",
       "      <td>2020-01-24</td>\n",
       "      <td>Kitzbuehel</td>\n",
       "      <td>AUT</td>\n",
       "      <td>Super G</td>\n",
       "      <td>0</td>\n",
       "      <td>Alexis Pinturault</td>\n",
       "      <td>FR</td>\n",
       "      <td>alexis_pinturault_fra_194364</td>\n",
       "      <td>9</td>\n",
       "      <td>0</td>\n",
       "      <td>0</td>\n",
       "      <td>7575</td>\n",
       "      <td>114</td>\n",
       "      <td>Head</td>\n",
       "      <td>29</td>\n",
       "      <td>642</td>\n",
       "    </tr>\n",
       "    <tr>\n",
       "      <th>3871</th>\n",
       "      <td>2020</td>\n",
       "      <td>2020-01-25</td>\n",
       "      <td>Kitzbuehel</td>\n",
       "      <td>AUT</td>\n",
       "      <td>Downhill</td>\n",
       "      <td>0</td>\n",
       "      <td>Alexis Pinturault</td>\n",
       "      <td>FR</td>\n",
       "      <td>alexis_pinturault_fra_194364</td>\n",
       "      <td>0</td>\n",
       "      <td>0</td>\n",
       "      <td>0</td>\n",
       "      <td>0</td>\n",
       "      <td>0</td>\n",
       "      <td>0</td>\n",
       "      <td>0</td>\n",
       "      <td>642</td>\n",
       "    </tr>\n",
       "    <tr>\n",
       "      <th>4001</th>\n",
       "      <td>2020</td>\n",
       "      <td>2020-01-26</td>\n",
       "      <td>Kitzbuehel</td>\n",
       "      <td>AUT</td>\n",
       "      <td>Slalom</td>\n",
       "      <td>0</td>\n",
       "      <td>Alexis Pinturault</td>\n",
       "      <td>FR</td>\n",
       "      <td>alexis_pinturault_fra_194364</td>\n",
       "      <td>0</td>\n",
       "      <td>0</td>\n",
       "      <td>0</td>\n",
       "      <td>0</td>\n",
       "      <td>0</td>\n",
       "      <td>0</td>\n",
       "      <td>0</td>\n",
       "      <td>642</td>\n",
       "    </tr>\n",
       "    <tr>\n",
       "      <th>63</th>\n",
       "      <td>2020</td>\n",
       "      <td>2020-01-28</td>\n",
       "      <td>Schladming</td>\n",
       "      <td>AUT</td>\n",
       "      <td>Slalom</td>\n",
       "      <td>0</td>\n",
       "      <td>Alexis Pinturault</td>\n",
       "      <td>FR</td>\n",
       "      <td>alexis_pinturault_fra_194364</td>\n",
       "      <td>2</td>\n",
       "      <td>5173</td>\n",
       "      <td>5098</td>\n",
       "      <td>10271</td>\n",
       "      <td>34</td>\n",
       "      <td>Head</td>\n",
       "      <td>80</td>\n",
       "      <td>722</td>\n",
       "    </tr>\n",
       "    <tr>\n",
       "      <th>4270</th>\n",
       "      <td>2020</td>\n",
       "      <td>2020-02-01</td>\n",
       "      <td>Garmisch</td>\n",
       "      <td>GER</td>\n",
       "      <td>Downhill</td>\n",
       "      <td>0</td>\n",
       "      <td>Alexis Pinturault</td>\n",
       "      <td>FR</td>\n",
       "      <td>alexis_pinturault_fra_194364</td>\n",
       "      <td>0</td>\n",
       "      <td>0</td>\n",
       "      <td>0</td>\n",
       "      <td>0</td>\n",
       "      <td>0</td>\n",
       "      <td>0</td>\n",
       "      <td>0</td>\n",
       "      <td>722</td>\n",
       "    </tr>\n",
       "    <tr>\n",
       "      <th>26</th>\n",
       "      <td>2020</td>\n",
       "      <td>2020-02-02</td>\n",
       "      <td>Garmisch</td>\n",
       "      <td>GER</td>\n",
       "      <td>Giant Slalom</td>\n",
       "      <td>0</td>\n",
       "      <td>Alexis Pinturault</td>\n",
       "      <td>FR</td>\n",
       "      <td>alexis_pinturault_fra_194364</td>\n",
       "      <td>1</td>\n",
       "      <td>6235</td>\n",
       "      <td>6075</td>\n",
       "      <td>12310</td>\n",
       "      <td>0</td>\n",
       "      <td>Head</td>\n",
       "      <td>100</td>\n",
       "      <td>822</td>\n",
       "    </tr>\n",
       "    <tr>\n",
       "      <th>4530</th>\n",
       "      <td>2020</td>\n",
       "      <td>2020-02-08</td>\n",
       "      <td>Chamonix</td>\n",
       "      <td>FRA</td>\n",
       "      <td>Slalom</td>\n",
       "      <td>0</td>\n",
       "      <td>Alexis Pinturault</td>\n",
       "      <td>FR</td>\n",
       "      <td>alexis_pinturault_fra_194364</td>\n",
       "      <td>0</td>\n",
       "      <td>0</td>\n",
       "      <td>0</td>\n",
       "      <td>0</td>\n",
       "      <td>0</td>\n",
       "      <td>0</td>\n",
       "      <td>0</td>\n",
       "      <td>822</td>\n",
       "    </tr>\n",
       "    <tr>\n",
       "      <th>462</th>\n",
       "      <td>2020</td>\n",
       "      <td>2020-02-09</td>\n",
       "      <td>Chamonix</td>\n",
       "      <td>FRA</td>\n",
       "      <td>Parallel</td>\n",
       "      <td>0</td>\n",
       "      <td>Alexis Pinturault</td>\n",
       "      <td>FR</td>\n",
       "      <td>alexis_pinturault_fra_194364</td>\n",
       "      <td>13</td>\n",
       "      <td>0</td>\n",
       "      <td>0</td>\n",
       "      <td>6130</td>\n",
       "      <td>120</td>\n",
       "      <td>Head</td>\n",
       "      <td>20</td>\n",
       "      <td>842</td>\n",
       "    </tr>\n",
       "    <tr>\n",
       "      <th>4799</th>\n",
       "      <td>2020</td>\n",
       "      <td>2020-02-13</td>\n",
       "      <td>Saalbach</td>\n",
       "      <td>AUT</td>\n",
       "      <td>Downhill</td>\n",
       "      <td>0</td>\n",
       "      <td>Alexis Pinturault</td>\n",
       "      <td>FR</td>\n",
       "      <td>alexis_pinturault_fra_194364</td>\n",
       "      <td>0</td>\n",
       "      <td>0</td>\n",
       "      <td>0</td>\n",
       "      <td>0</td>\n",
       "      <td>0</td>\n",
       "      <td>0</td>\n",
       "      <td>0</td>\n",
       "      <td>842</td>\n",
       "    </tr>\n",
       "    <tr>\n",
       "      <th>212</th>\n",
       "      <td>2020</td>\n",
       "      <td>2020-02-14</td>\n",
       "      <td>Saalbach</td>\n",
       "      <td>AUT</td>\n",
       "      <td>Super G</td>\n",
       "      <td>0</td>\n",
       "      <td>Alexis Pinturault</td>\n",
       "      <td>FR</td>\n",
       "      <td>alexis_pinturault_fra_194364</td>\n",
       "      <td>6</td>\n",
       "      <td>0</td>\n",
       "      <td>0</td>\n",
       "      <td>5893</td>\n",
       "      <td>63</td>\n",
       "      <td>Head</td>\n",
       "      <td>40</td>\n",
       "      <td>882</td>\n",
       "    </tr>\n",
       "    <tr>\n",
       "      <th>543</th>\n",
       "      <td>2020</td>\n",
       "      <td>2020-02-22</td>\n",
       "      <td>Naeba</td>\n",
       "      <td>JPN</td>\n",
       "      <td>Giant Slalom</td>\n",
       "      <td>0</td>\n",
       "      <td>Alexis Pinturault</td>\n",
       "      <td>FR</td>\n",
       "      <td>alexis_pinturault_fra_194364</td>\n",
       "      <td>15</td>\n",
       "      <td>7782</td>\n",
       "      <td>8102</td>\n",
       "      <td>15884</td>\n",
       "      <td>159</td>\n",
       "      <td>Head</td>\n",
       "      <td>16</td>\n",
       "      <td>898</td>\n",
       "    </tr>\n",
       "    <tr>\n",
       "      <th>141</th>\n",
       "      <td>2020</td>\n",
       "      <td>2020-02-29</td>\n",
       "      <td>Hinterstoder</td>\n",
       "      <td>AUT</td>\n",
       "      <td>Super G</td>\n",
       "      <td>0</td>\n",
       "      <td>Alexis Pinturault</td>\n",
       "      <td>FR</td>\n",
       "      <td>alexis_pinturault_fra_194364</td>\n",
       "      <td>4</td>\n",
       "      <td>0</td>\n",
       "      <td>0</td>\n",
       "      <td>9332</td>\n",
       "      <td>24</td>\n",
       "      <td>Head</td>\n",
       "      <td>50</td>\n",
       "      <td>948</td>\n",
       "    </tr>\n",
       "    <tr>\n",
       "      <th>33</th>\n",
       "      <td>2020</td>\n",
       "      <td>2020-03-01</td>\n",
       "      <td>Hinterstoder</td>\n",
       "      <td>AUT</td>\n",
       "      <td>Combined</td>\n",
       "      <td>0</td>\n",
       "      <td>Alexis Pinturault</td>\n",
       "      <td>FR</td>\n",
       "      <td>alexis_pinturault_fra_194364</td>\n",
       "      <td>1</td>\n",
       "      <td>0</td>\n",
       "      <td>0</td>\n",
       "      <td>12490</td>\n",
       "      <td>0</td>\n",
       "      <td>Head</td>\n",
       "      <td>100</td>\n",
       "      <td>1048</td>\n",
       "    </tr>\n",
       "    <tr>\n",
       "      <th>34</th>\n",
       "      <td>2020</td>\n",
       "      <td>2020-03-02</td>\n",
       "      <td>Hinterstoder</td>\n",
       "      <td>AUT</td>\n",
       "      <td>Giant Slalom</td>\n",
       "      <td>0</td>\n",
       "      <td>Alexis Pinturault</td>\n",
       "      <td>FR</td>\n",
       "      <td>alexis_pinturault_fra_194364</td>\n",
       "      <td>1</td>\n",
       "      <td>8430</td>\n",
       "      <td>7766</td>\n",
       "      <td>16196</td>\n",
       "      <td>0</td>\n",
       "      <td>Head</td>\n",
       "      <td>100</td>\n",
       "      <td>1148</td>\n",
       "    </tr>\n",
       "    <tr>\n",
       "      <th>5582</th>\n",
       "      <td>2020</td>\n",
       "      <td>2020-03-07</td>\n",
       "      <td>Kvitfjell</td>\n",
       "      <td>NOR</td>\n",
       "      <td>Downhill</td>\n",
       "      <td>0</td>\n",
       "      <td>Alexis Pinturault</td>\n",
       "      <td>FR</td>\n",
       "      <td>alexis_pinturault_fra_194364</td>\n",
       "      <td>0</td>\n",
       "      <td>0</td>\n",
       "      <td>0</td>\n",
       "      <td>0</td>\n",
       "      <td>0</td>\n",
       "      <td>0</td>\n",
       "      <td>0</td>\n",
       "      <td>1148</td>\n",
       "    </tr>\n",
       "  </tbody>\n",
       "</table>\n",
       "</div>"
      ],
      "text/plain": [
       "      season        date         venue country         event  key  \\\n",
       "0       2020  2019-10-27       Soelden     AUT  Giant Slalom    0   \n",
       "1118    2020  2019-11-24          Levi     FIN        Slalom    0   \n",
       "1250    2020  2019-11-30   Lake Louise     CAN      Downhill    0   \n",
       "1378    2020  2019-12-01   Lake Louise     CAN       Super G    0   \n",
       "113     2020  2019-12-06  Beaver Creek     USA       Super G    0   \n",
       "1638    2020  2019-12-07  Beaver Creek     USA      Downhill    0   \n",
       "589     2020  2019-12-08  Beaver Creek     USA  Giant Slalom    0   \n",
       "7       2020  2019-12-15   Val d'Isere     FRA        Slalom    0   \n",
       "2033    2020  2019-12-20       Gardena     ITA       Super G    0   \n",
       "263     2020  2019-12-22    Alta Badia     ITA  Giant Slalom    0   \n",
       "903     2020  2019-12-23    Alta Badia     ITA      Parallel    0   \n",
       "2423    2020  2019-12-27        Bormio     ITA      Downhill    0   \n",
       "2553    2020  2019-12-28        Bormio     ITA      Downhill    0   \n",
       "13      2020  2019-12-29        Bormio     ITA      Combined    0   \n",
       "304     2020  2020-01-05        Zagreb     CRO        Slalom    0   \n",
       "160     2020  2020-01-08     Campiglio     ITA        Slalom    0   \n",
       "343     2020  2020-01-11     Adelboden     SUI  Giant Slalom    0   \n",
       "271     2020  2020-01-12     Adelboden     SUI        Slalom    0   \n",
       "55      2020  2020-01-17        Wengen     SUI      Combined    0   \n",
       "3477    2020  2020-01-18        Wengen     SUI      Downhill    0   \n",
       "3607    2020  2020-01-19        Wengen     SUI        Slalom    0   \n",
       "310     2020  2020-01-24    Kitzbuehel     AUT       Super G    0   \n",
       "3871    2020  2020-01-25    Kitzbuehel     AUT      Downhill    0   \n",
       "4001    2020  2020-01-26    Kitzbuehel     AUT        Slalom    0   \n",
       "63      2020  2020-01-28    Schladming     AUT        Slalom    0   \n",
       "4270    2020  2020-02-01      Garmisch     GER      Downhill    0   \n",
       "26      2020  2020-02-02      Garmisch     GER  Giant Slalom    0   \n",
       "4530    2020  2020-02-08      Chamonix     FRA        Slalom    0   \n",
       "462     2020  2020-02-09      Chamonix     FRA      Parallel    0   \n",
       "4799    2020  2020-02-13      Saalbach     AUT      Downhill    0   \n",
       "212     2020  2020-02-14      Saalbach     AUT       Super G    0   \n",
       "543     2020  2020-02-22         Naeba     JPN  Giant Slalom    0   \n",
       "141     2020  2020-02-29  Hinterstoder     AUT       Super G    0   \n",
       "33      2020  2020-03-01  Hinterstoder     AUT      Combined    0   \n",
       "34      2020  2020-03-02  Hinterstoder     AUT  Giant Slalom    0   \n",
       "5582    2020  2020-03-07     Kvitfjell     NOR      Downhill    0   \n",
       "\n",
       "               ath_name ath_country                        ath_id  ath_rank  \\\n",
       "0     Alexis Pinturault          FR  alexis_pinturault_fra_194364         1   \n",
       "1118  Alexis Pinturault          FR  alexis_pinturault_fra_194364         0   \n",
       "1250  Alexis Pinturault          FR  alexis_pinturault_fra_194364         0   \n",
       "1378  Alexis Pinturault          FR  alexis_pinturault_fra_194364         0   \n",
       "113   Alexis Pinturault          FR  alexis_pinturault_fra_194364         4   \n",
       "1638  Alexis Pinturault          FR  alexis_pinturault_fra_194364         0   \n",
       "589   Alexis Pinturault          FR  alexis_pinturault_fra_194364        17   \n",
       "7     Alexis Pinturault          FR  alexis_pinturault_fra_194364         1   \n",
       "2033  Alexis Pinturault          FR  alexis_pinturault_fra_194364         0   \n",
       "263   Alexis Pinturault          FR  alexis_pinturault_fra_194364         8   \n",
       "903   Alexis Pinturault          FR  alexis_pinturault_fra_194364        26   \n",
       "2423  Alexis Pinturault          FR  alexis_pinturault_fra_194364         0   \n",
       "2553  Alexis Pinturault          FR  alexis_pinturault_fra_194364         0   \n",
       "13    Alexis Pinturault          FR  alexis_pinturault_fra_194364         1   \n",
       "304   Alexis Pinturault          FR  alexis_pinturault_fra_194364         9   \n",
       "160   Alexis Pinturault          FR  alexis_pinturault_fra_194364         5   \n",
       "343   Alexis Pinturault          FR  alexis_pinturault_fra_194364        10   \n",
       "271   Alexis Pinturault          FR  alexis_pinturault_fra_194364         8   \n",
       "55    Alexis Pinturault          FR  alexis_pinturault_fra_194364         2   \n",
       "3477  Alexis Pinturault          FR  alexis_pinturault_fra_194364         0   \n",
       "3607  Alexis Pinturault          FR  alexis_pinturault_fra_194364         0   \n",
       "310   Alexis Pinturault          FR  alexis_pinturault_fra_194364         9   \n",
       "3871  Alexis Pinturault          FR  alexis_pinturault_fra_194364         0   \n",
       "4001  Alexis Pinturault          FR  alexis_pinturault_fra_194364         0   \n",
       "63    Alexis Pinturault          FR  alexis_pinturault_fra_194364         2   \n",
       "4270  Alexis Pinturault          FR  alexis_pinturault_fra_194364         0   \n",
       "26    Alexis Pinturault          FR  alexis_pinturault_fra_194364         1   \n",
       "4530  Alexis Pinturault          FR  alexis_pinturault_fra_194364         0   \n",
       "462   Alexis Pinturault          FR  alexis_pinturault_fra_194364        13   \n",
       "4799  Alexis Pinturault          FR  alexis_pinturault_fra_194364         0   \n",
       "212   Alexis Pinturault          FR  alexis_pinturault_fra_194364         6   \n",
       "543   Alexis Pinturault          FR  alexis_pinturault_fra_194364        15   \n",
       "141   Alexis Pinturault          FR  alexis_pinturault_fra_194364         4   \n",
       "33    Alexis Pinturault          FR  alexis_pinturault_fra_194364         1   \n",
       "34    Alexis Pinturault          FR  alexis_pinturault_fra_194364         1   \n",
       "5582  Alexis Pinturault          FR  alexis_pinturault_fra_194364         0   \n",
       "\n",
       "      ath_time_run_1  ath_time_run_2  ath_time  ath_time_diff ath_ski  points  \\\n",
       "0               6710            6704     13414              0    Head     100   \n",
       "1118               0               0         0              0       0       0   \n",
       "1250               0               0         0              0       0       0   \n",
       "1378               0               0         0              0       0       0   \n",
       "113                0               0      7127             37    Head      50   \n",
       "1638               0               0         0              0       0       0   \n",
       "589             7836            7654     15490            365    Head      14   \n",
       "7               5285            5506     10791              0    Head     100   \n",
       "2033               0               0         0              0       0       0   \n",
       "263             5889            5936     11825             92    Head      32   \n",
       "903                0               0      6260            250    Head       5   \n",
       "2423               0               0         0              0       0       0   \n",
       "2553               0               0         0              0       0       0   \n",
       "13                 0               0     15256              0    Head     100   \n",
       "304             5861            5950     11811             97    Head      29   \n",
       "160             4847            4773      9620             60    Head      45   \n",
       "343             7276            7635     14911            121    Head      26   \n",
       "271             5403            5529     10932             59    Head      32   \n",
       "55                 0               0     15252              7    Head      80   \n",
       "3477               0               0         0              0       0       0   \n",
       "3607               0               0         0              0       0       0   \n",
       "310                0               0      7575            114    Head      29   \n",
       "3871               0               0         0              0       0       0   \n",
       "4001               0               0         0              0       0       0   \n",
       "63              5173            5098     10271             34    Head      80   \n",
       "4270               0               0         0              0       0       0   \n",
       "26              6235            6075     12310              0    Head     100   \n",
       "4530               0               0         0              0       0       0   \n",
       "462                0               0      6130            120    Head      20   \n",
       "4799               0               0         0              0       0       0   \n",
       "212                0               0      5893             63    Head      40   \n",
       "543             7782            8102     15884            159    Head      16   \n",
       "141                0               0      9332             24    Head      50   \n",
       "33                 0               0     12490              0    Head     100   \n",
       "34              8430            7766     16196              0    Head     100   \n",
       "5582               0               0         0              0       0       0   \n",
       "\n",
       "      value  \n",
       "0       100  \n",
       "1118    100  \n",
       "1250    100  \n",
       "1378    100  \n",
       "113     150  \n",
       "1638    150  \n",
       "589     164  \n",
       "7       264  \n",
       "2033    264  \n",
       "263     296  \n",
       "903     301  \n",
       "2423    301  \n",
       "2553    301  \n",
       "13      401  \n",
       "304     430  \n",
       "160     475  \n",
       "343     501  \n",
       "271     533  \n",
       "55      613  \n",
       "3477    613  \n",
       "3607    613  \n",
       "310     642  \n",
       "3871    642  \n",
       "4001    642  \n",
       "63      722  \n",
       "4270    722  \n",
       "26      822  \n",
       "4530    822  \n",
       "462     842  \n",
       "4799    842  \n",
       "212     882  \n",
       "543     898  \n",
       "141     948  \n",
       "33     1048  \n",
       "34     1148  \n",
       "5582   1148  "
      ]
     },
     "execution_count": 9,
     "metadata": {},
     "output_type": "execute_result"
    }
   ],
   "source": []
  },
  {
   "cell_type": "code",
   "execution_count": 17,
   "metadata": {},
   "outputs": [],
   "source": []
  },
  {
   "cell_type": "code",
   "execution_count": null,
   "metadata": {},
   "outputs": [],
   "source": []
  },
  {
   "cell_type": "code",
   "execution_count": 6,
   "metadata": {
    "scrolled": false
   },
   "outputs": [
    {
     "data": {
      "image/png": "[encoded data removed]",
      "text/plain": [
       "<PIL.PngImagePlugin.PngImageFile image mode=RGBA size=64x64 at 0x112C2AD68>"
      ]
     },
     "metadata": {},
     "output_type": "display_data"
    },
    {
     "data": {
      "image/png": "[encoded data removed]",
      "text/plain": [
       "<PIL.PngImagePlugin.PngImageFile image mode=RGBA size=64x64 at 0x112C2A240>"
      ]
     },
     "metadata": {},
     "output_type": "display_data"
    },
    {
     "data": {
      "image/png": "[encoded data removed]",
      "text/plain": [
       "<PIL.PngImagePlugin.PngImageFile image mode=RGBA size=64x64 at 0x1128BC4E0>"
      ]
     },
     "metadata": {},
     "output_type": "display_data"
    },
    {
     "data": {
      "image/png": "[encoded data removed]",
      "text/plain": [
       "<PIL.PngImagePlugin.PngImageFile image mode=RGBA size=64x64 at 0x1127EAE48>"
      ]
     },
     "metadata": {},
     "output_type": "display_data"
    },
    {
     "data": {
      "image/png": "[encoded data removed]",
      "text/plain": [
       "<PIL.PngImagePlugin.PngImageFile image mode=RGBA size=64x64 at 0x112C2A198>"
      ]
     },
     "metadata": {},
     "output_type": "display_data"
    },
    {
     "data": {
      "image/png": "[encoded data removed]",
      "text/plain": [
       "<PIL.PngImagePlugin.PngImageFile image mode=RGBA size=64x64 at 0x1128BC4E0>"
      ]
     },
     "metadata": {},
     "output_type": "display_data"
    },
    {
     "data": {
      "image/png": "[encoded data removed]",
      "text/plain": [
       "<PIL.PngImagePlugin.PngImageFile image mode=RGBA size=64x64 at 0x10FEBD668>"
      ]
     },
     "metadata": {},
     "output_type": "display_data"
    },
    {
     "data": {
      "image/png": "[encoded data removed]",
      "text/plain": [
       "<PIL.PngImagePlugin.PngImageFile image mode=RGBA size=64x64 at 0x1128BC4E0>"
      ]
     },
     "metadata": {},
     "output_type": "display_data"
    },
    {
     "data": {
      "image/png": "[encoded data removed]",
      "text/plain": [
       "<PIL.PngImagePlugin.PngImageFile image mode=RGBA size=64x64 at 0x1129319E8>"
      ]
     },
     "metadata": {},
     "output_type": "display_data"
    },
    {
     "data": {
      "image/png": "[encoded data removed]",
      "text/plain": [
       "<PIL.PngImagePlugin.PngImageFile image mode=RGBA size=64x64 at 0x112C48D30>"
      ]
     },
     "metadata": {},
     "output_type": "display_data"
    },
    {
     "data": {
      "image/png": "[encoded data removed]",
      "text/plain": [
       "<PIL.PngImagePlugin.PngImageFile image mode=RGBA size=64x64 at 0x1129319E8>"
      ]
     },
     "metadata": {},
     "output_type": "display_data"
    },
    {
     "data": {
      "image/png": "[encoded data removed]",
      "text/plain": [
       "<PIL.PngImagePlugin.PngImageFile image mode=RGBA size=64x64 at 0x112C31B38>"
      ]
     },
     "metadata": {},
     "output_type": "display_data"
    },
    {
     "data": {
      "image/png": "[encoded data removed]",
      "text/plain": [
       "<PIL.PngImagePlugin.PngImageFile image mode=RGBA size=64x64 at 0x112C48978>"
      ]
     },
     "metadata": {},
     "output_type": "display_data"
    },
    {
     "data": {
      "image/png": "[encoded data removed]",
      "text/plain": [
       "<PIL.PngImagePlugin.PngImageFile image mode=RGBA size=64x64 at 0x1116C2518>"
      ]
     },
     "metadata": {},
     "output_type": "display_data"
    },
    {
     "data": {
      "image/png": "[encoded data removed]",
      "text/plain": [
       "<PIL.PngImagePlugin.PngImageFile image mode=RGBA size=64x64 at 0x112C2A0F0>"
      ]
     },
     "metadata": {},
     "output_type": "display_data"
    },
    {
     "data": {
      "image/png": "[encoded data removed]",
      "text/plain": [
       "<PIL.PngImagePlugin.PngImageFile image mode=RGBA size=64x64 at 0x10FEBD668>"
      ]
     },
     "metadata": {},
     "output_type": "display_data"
    },
    {
     "data": {
      "image/png": "[encoded data removed]",
      "text/plain": [
       "<PIL.PngImagePlugin.PngImageFile image mode=RGBA size=64x64 at 0x112C31DD8>"
      ]
     },
     "metadata": {},
     "output_type": "display_data"
    },
    {
     "data": {
      "image/png": "[encoded data removed]",
      "text/plain": [
       "<PIL.PngImagePlugin.PngImageFile image mode=RGBA size=64x64 at 0x112C2A0F0>"
      ]
     },
     "metadata": {},
     "output_type": "display_data"
    },
    {
     "data": {
      "image/png": "[encoded data removed]",
      "text/plain": [
       "<PIL.PngImagePlugin.PngImageFile image mode=RGBA size=64x64 at 0x1127EAE48>"
      ]
     },
     "metadata": {},
     "output_type": "display_data"
    },
    {
     "data": {
      "image/png": "[encoded data removed]",
      "text/plain": [
       "<PIL.PngImagePlugin.PngImageFile image mode=RGBA size=64x64 at 0x112C659E8>"
      ]
     },
     "metadata": {},
     "output_type": "display_data"
    },
    {
     "data": {
      "image/png": "[encoded data removed]",
      "text/plain": [
       "<PIL.PngImagePlugin.PngImageFile image mode=RGBA size=64x64 at 0x1129319E8>"
      ]
     },
     "metadata": {},
     "output_type": "display_data"
    },
    {
     "data": {
      "image/png": "[encoded data removed]",
      "text/plain": [
       "<PIL.PngImagePlugin.PngImageFile image mode=RGBA size=64x64 at 0x1128BC4E0>"
      ]
     },
     "metadata": {},
     "output_type": "display_data"
    },
    {
     "data": {
      "image/png": "[encoded data removed]",
      "text/plain": [
       "<PIL.PngImagePlugin.PngImageFile image mode=RGBA size=64x64 at 0x1129319E8>"
      ]
     },
     "metadata": {},
     "output_type": "display_data"
    },
    {
     "data": {
      "image/png": "[encoded data removed]",
      "text/plain": [
       "<PIL.PngImagePlugin.PngImageFile image mode=RGBA size=64x64 at 0x112C31B38>"
      ]
     },
     "metadata": {},
     "output_type": "display_data"
    },
    {
     "data": {
      "image/png": "[encoded data removed]",
      "text/plain": [
       "<PIL.PngImagePlugin.PngImageFile image mode=RGBA size=64x64 at 0x112C31D30>"
      ]
     },
     "metadata": {},
     "output_type": "display_data"
    },
    {
     "data": {
      "image/png": "[encoded data removed]",
      "text/plain": [
       "<PIL.PngImagePlugin.PngImageFile image mode=RGBA size=64x64 at 0x1127EAE48>"
      ]
     },
     "metadata": {},
     "output_type": "display_data"
    },
    {
     "data": {
      "image/png": "[encoded data removed]",
      "text/plain": [
       "<PIL.PngImagePlugin.PngImageFile image mode=RGBA size=64x64 at 0x112C2A1D0>"
      ]
     },
     "metadata": {},
     "output_type": "display_data"
    },
    {
     "data": {
      "image/png": "[encoded data removed]",
      "text/plain": [
       "<PIL.PngImagePlugin.PngImageFile image mode=RGBA size=64x64 at 0x1127EAE48>"
      ]
     },
     "metadata": {},
     "output_type": "display_data"
    },
    {
     "data": {
      "image/png": "[encoded data removed]",
      "text/plain": [
       "<PIL.PngImagePlugin.PngImageFile image mode=RGBA size=64x64 at 0x1128BC4E0>"
      ]
     },
     "metadata": {},
     "output_type": "display_data"
    },
    {
     "data": {
      "image/png": "[encoded data removed]",
      "text/plain": [
       "<PIL.PngImagePlugin.PngImageFile image mode=RGBA size=64x64 at 0x1127EAE48>"
      ]
     },
     "metadata": {},
     "output_type": "display_data"
    },
    {
     "data": {
      "image/png": "[encoded data removed]",
      "text/plain": [
       "<PIL.PngImagePlugin.PngImageFile image mode=RGBA size=64x64 at 0x1128BC4E0>"
      ]
     },
     "metadata": {},
     "output_type": "display_data"
    },
    {
     "data": {
      "image/png": "[encoded data removed]",
      "text/plain": [
       "<PIL.PngImagePlugin.PngImageFile image mode=RGBA size=64x64 at 0x1127EAE48>"
      ]
     },
     "metadata": {},
     "output_type": "display_data"
    },
    {
     "data": {
      "image/png": "[encoded data removed]",
      "text/plain": [
       "<PIL.PngImagePlugin.PngImageFile image mode=RGBA size=64x64 at 0x10EC527F0>"
      ]
     },
     "metadata": {},
     "output_type": "display_data"
    },
    {
     "data": {
      "image/png": "[encoded data removed]",
      "text/plain": [
       "<PIL.PngImagePlugin.PngImageFile image mode=RGBA size=64x64 at 0x10EC52E80>"
      ]
     },
     "metadata": {},
     "output_type": "display_data"
    },
    {
     "data": {
      "image/png": "[encoded data removed]",
      "text/plain": [
       "<PIL.PngImagePlugin.PngImageFile image mode=RGBA size=64x64 at 0x112C2A240>"
      ]
     },
     "metadata": {},
     "output_type": "display_data"
    },
    {
     "data": {
      "image/png": "[encoded data removed]",
      "text/plain": [
       "<PIL.PngImagePlugin.PngImageFile image mode=RGBA size=64x64 at 0x112C31B38>"
      ]
     },
     "metadata": {},
     "output_type": "display_data"
    },
    {
     "data": {
      "image/png": "[encoded data removed]",
      "text/plain": [
       "<PIL.PngImagePlugin.PngImageFile image mode=RGBA size=64x64 at 0x112C48710>"
      ]
     },
     "metadata": {},
     "output_type": "display_data"
    },
    {
     "data": {
      "image/png": "[encoded data removed]",
      "text/plain": [
       "<PIL.PngImagePlugin.PngImageFile image mode=RGBA size=64x64 at 0x10FEBD668>"
      ]
     },
     "metadata": {},
     "output_type": "display_data"
    },
    {
     "data": {
      "image/png": "[encoded data removed]",
      "text/plain": [
       "<PIL.PngImagePlugin.PngImageFile image mode=RGBA size=64x64 at 0x1116C2518>"
      ]
     },
     "metadata": {},
     "output_type": "display_data"
    },
    {
     "data": {
      "image/png": "[encoded data removed]",
      "text/plain": [
       "<PIL.PngImagePlugin.PngImageFile image mode=RGBA size=64x64 at 0x10FEBD668>"
      ]
     },
     "metadata": {},
     "output_type": "display_data"
    },
    {
     "data": {
      "image/png": "[encoded data removed]",
      "text/plain": [
       "<PIL.PngImagePlugin.PngImageFile image mode=RGBA size=64x64 at 0x10EC52E80>"
      ]
     },
     "metadata": {},
     "output_type": "display_data"
    },
    {
     "data": {
      "image/png": "[encoded data removed]",
      "text/plain": [
       "<PIL.PngImagePlugin.PngImageFile image mode=RGBA size=64x64 at 0x112C31CF8>"
      ]
     },
     "metadata": {},
     "output_type": "display_data"
    },
    {
     "data": {
      "image/png": "[encoded data removed]",
      "text/plain": [
       "<PIL.PngImagePlugin.PngImageFile image mode=RGBA size=64x64 at 0x112C2A198>"
      ]
     },
     "metadata": {},
     "output_type": "display_data"
    },
    {
     "data": {
      "image/png": "[encoded data removed]",
      "text/plain": [
       "<PIL.PngImagePlugin.PngImageFile image mode=RGBA size=64x64 at 0x1129319E8>"
      ]
     },
     "metadata": {},
     "output_type": "display_data"
    },
    {
     "data": {
      "image/png": "[encoded data removed]",
      "text/plain": [
       "<PIL.PngImagePlugin.PngImageFile image mode=RGBA size=64x64 at 0x10EC52978>"
      ]
     },
     "metadata": {},
     "output_type": "display_data"
    },
    {
     "data": {
      "image/png": "[encoded data removed]",
      "text/plain": [
       "<PIL.PngImagePlugin.PngImageFile image mode=RGBA size=64x64 at 0x112C2A0F0>"
      ]
     },
     "metadata": {},
     "output_type": "display_data"
    },
    {
     "data": {
      "image/png": "[encoded data removed]",
      "text/plain": [
       "<PIL.PngImagePlugin.PngImageFile image mode=RGBA size=64x64 at 0x112C31B38>"
      ]
     },
     "metadata": {},
     "output_type": "display_data"
    },
    {
     "data": {
      "image/png": "[encoded data removed]",
      "text/plain": [
       "<PIL.PngImagePlugin.PngImageFile image mode=RGBA size=64x64 at 0x111595438>"
      ]
     },
     "metadata": {},
     "output_type": "display_data"
    },
    {
     "data": {
      "image/png": "[encoded data removed]",
      "text/plain": [
       "<PIL.PngImagePlugin.PngImageFile image mode=RGBA size=64x64 at 0x112C2A1D0>"
      ]
     },
     "metadata": {},
     "output_type": "display_data"
    },
    {
     "data": {
      "image/png": "[encoded data removed]",
      "text/plain": [
       "<PIL.PngImagePlugin.PngImageFile image mode=RGBA size=64x64 at 0x112C31D30>"
      ]
     },
     "metadata": {},
     "output_type": "display_data"
    },
    {
     "data": {
      "image/png": "[encoded data removed]",
      "text/plain": [
       "<PIL.PngImagePlugin.PngImageFile image mode=RGBA size=64x64 at 0x112C2A0F0>"
      ]
     },
     "metadata": {},
     "output_type": "display_data"
    },
    {
     "data": {
      "image/png": "[encoded data removed]",
      "text/plain": [
       "<PIL.PngImagePlugin.PngImageFile image mode=RGBA size=64x64 at 0x112C31DD8>"
      ]
     },
     "metadata": {},
     "output_type": "display_data"
    },
    {
     "data": {
      "image/png": "[encoded data removed]",
      "text/plain": [
       "<PIL.PngImagePlugin.PngImageFile image mode=RGBA size=64x64 at 0x112C31CF8>"
      ]
     },
     "metadata": {},
     "output_type": "display_data"
    },
    {
     "data": {
      "image/png": "[encoded data removed]",
      "text/plain": [
       "<PIL.PngImagePlugin.PngImageFile image mode=RGBA size=64x64 at 0x112C2A240>"
      ]
     },
     "metadata": {},
     "output_type": "display_data"
    },
    {
     "data": {
      "image/png": "[encoded data removed]",
      "text/plain": [
       "<PIL.PngImagePlugin.PngImageFile image mode=RGBA size=64x64 at 0x112C31DD8>"
      ]
     },
     "metadata": {},
     "output_type": "display_data"
    },
    {
     "data": {
      "image/png": "[encoded data removed]",
      "text/plain": [
       "<PIL.PngImagePlugin.PngImageFile image mode=RGBA size=64x64 at 0x112C31B38>"
      ]
     },
     "metadata": {},
     "output_type": "display_data"
    },
    {
     "data": {
      "image/png": "[encoded data removed]",
      "text/plain": [
       "<PIL.PngImagePlugin.PngImageFile image mode=RGBA size=64x64 at 0x112C2A198>"
      ]
     },
     "metadata": {},
     "output_type": "display_data"
    },
    {
     "data": {
      "image/png": "[encoded data removed]",
      "text/plain": [
       "<PIL.PngImagePlugin.PngImageFile image mode=RGBA size=64x64 at 0x1127EAE48>"
      ]
     },
     "metadata": {},
     "output_type": "display_data"
    },
    {
     "data": {
      "image/png": "[encoded data removed]",
      "text/plain": [
       "<PIL.PngImagePlugin.PngImageFile image mode=RGBA size=64x64 at 0x1129319E8>"
      ]
     },
     "metadata": {},
     "output_type": "display_data"
    },
    {
     "data": {
      "image/png": "[encoded data removed]",
      "text/plain": [
       "<PIL.PngImagePlugin.PngImageFile image mode=RGBA size=64x64 at 0x112C2A0F0>"
      ]
     },
     "metadata": {},
     "output_type": "display_data"
    },
    {
     "data": {
      "image/png": "[encoded data removed]",
      "text/plain": [
       "<PIL.PngImagePlugin.PngImageFile image mode=RGBA size=64x64 at 0x112C31DD8>"
      ]
     },
     "metadata": {},
     "output_type": "display_data"
    },
    {
     "data": {
      "image/png": "[encoded data removed]",
      "text/plain": [
       "<PIL.PngImagePlugin.PngImageFile image mode=RGBA size=64x64 at 0x112C2A1D0>"
      ]
     },
     "metadata": {},
     "output_type": "display_data"
    },
    {
     "data": {
      "image/png": "[encoded data removed]",
      "text/plain": [
       "<PIL.PngImagePlugin.PngImageFile image mode=RGBA size=64x64 at 0x112C2AD68>"
      ]
     },
     "metadata": {},
     "output_type": "display_data"
    },
    {
     "data": {
      "image/png": "[encoded data removed]",
      "text/plain": [
       "<PIL.PngImagePlugin.PngImageFile image mode=RGBA size=64x64 at 0x1127EAE48>"
      ]
     },
     "metadata": {},
     "output_type": "display_data"
    },
    {
     "data": {
      "image/png": "[encoded data removed]",
      "text/plain": [
       "<PIL.PngImagePlugin.PngImageFile image mode=RGBA size=64x64 at 0x112C31D30>"
      ]
     },
     "metadata": {},
     "output_type": "display_data"
    }
   ],
   "source": [
    "from PIL import Image\n",
    "import requests\n",
    "from io import BytesIO\n",
    "for country in set(df.ath_country.tolist()):\n",
    "    if country != \"\":\n",
    "        response = requests.get(f\"https://www.countryflags.io/{country}/flat/64.png\")\n",
    "        img = Image.open(BytesIO(response.content))\n",
    "        display(img)"
   ]
  }
 ],
 "metadata": {
  "kernelspec": {
   "display_name": "Python 3",
   "language": "python",
   "name": "python3"
  },
  "language_info": {
   "codemirror_mode": {
    "name": "ipython",
    "version": 3
   },
   "file_extension": ".py",
   "mimetype": "text/x-python",
   "name": "python",
   "nbconvert_exporter": "python",
   "pygments_lexer": "ipython3",
   "version": "3.6.8"
  }
 },
 "nbformat": 4,
 "nbformat_minor": 2
}
